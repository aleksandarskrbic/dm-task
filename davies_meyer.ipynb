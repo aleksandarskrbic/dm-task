{
 "cells": [
  {
   "cell_type": "code",
   "execution_count": 1,
   "metadata": {},
   "outputs": [],
   "source": [
    "%matplotlib inline"
   ]
  },
  {
   "cell_type": "code",
   "execution_count": 2,
   "metadata": {},
   "outputs": [],
   "source": [
    "import pymysql\n",
    "import pandas as pd\n",
    "import numpy as np\n",
    "import matplotlib.pyplot as plt\n",
    "import datetime as DT\n",
    "\n",
    "conn = pymysql.connect(host='localhost',\n",
    "                       user='test_user',\n",
    "                       password='test_password',\n",
    "                       db ='daviesDB')"
   ]
  },
  {
   "cell_type": "code",
   "execution_count": 3,
   "metadata": {},
   "outputs": [],
   "source": [
    "frontend_users_df = pd.read_sql(\n",
    "                        'SELECT * FROM frontend_users', conn)"
   ]
  },
  {
   "cell_type": "code",
   "execution_count": 4,
   "metadata": {},
   "outputs": [
    {
     "data": {
      "text/html": [
       "<div>\n",
       "<style scoped>\n",
       "    .dataframe tbody tr th:only-of-type {\n",
       "        vertical-align: middle;\n",
       "    }\n",
       "\n",
       "    .dataframe tbody tr th {\n",
       "        vertical-align: top;\n",
       "    }\n",
       "\n",
       "    .dataframe thead th {\n",
       "        text-align: right;\n",
       "    }\n",
       "</style>\n",
       "<table border=\"1\" class=\"dataframe\">\n",
       "  <thead>\n",
       "    <tr style=\"text-align: right;\">\n",
       "      <th></th>\n",
       "      <th>id</th>\n",
       "      <th>title</th>\n",
       "      <th>email</th>\n",
       "      <th>birthday</th>\n",
       "      <th>city</th>\n",
       "      <th>country</th>\n",
       "      <th>magazin</th>\n",
       "      <th>newsletter</th>\n",
       "      <th>bonuspoints</th>\n",
       "      <th>created</th>\n",
       "      <th>invited_by_frontend_user_id</th>\n",
       "    </tr>\n",
       "  </thead>\n",
       "  <tbody>\n",
       "    <tr>\n",
       "      <th>0</th>\n",
       "      <td>2</td>\n",
       "      <td>Mrs</td>\n",
       "      <td>user_65991@mail.com</td>\n",
       "      <td>1976-03-24</td>\n",
       "      <td>Hanover</td>\n",
       "      <td>DE</td>\n",
       "      <td>0</td>\n",
       "      <td>1</td>\n",
       "      <td>3295</td>\n",
       "      <td>2015-08-11 14:42:43</td>\n",
       "      <td>NaN</td>\n",
       "    </tr>\n",
       "    <tr>\n",
       "      <th>1</th>\n",
       "      <td>4</td>\n",
       "      <td>Mr</td>\n",
       "      <td>user_36039@gmail.com</td>\n",
       "      <td>1975-07-05</td>\n",
       "      <td>Dresden</td>\n",
       "      <td>DE</td>\n",
       "      <td>0</td>\n",
       "      <td>1</td>\n",
       "      <td>500</td>\n",
       "      <td>2015-08-12 09:42:15</td>\n",
       "      <td>NaN</td>\n",
       "    </tr>\n",
       "    <tr>\n",
       "      <th>2</th>\n",
       "      <td>5</td>\n",
       "      <td>Mrs</td>\n",
       "      <td>user_90819@mail.com</td>\n",
       "      <td>1986-03-07</td>\n",
       "      <td>Bielefeld</td>\n",
       "      <td>DE</td>\n",
       "      <td>0</td>\n",
       "      <td>1</td>\n",
       "      <td>1100</td>\n",
       "      <td>2015-08-12 11:02:26</td>\n",
       "      <td>NaN</td>\n",
       "    </tr>\n",
       "    <tr>\n",
       "      <th>3</th>\n",
       "      <td>6</td>\n",
       "      <td>Mrs</td>\n",
       "      <td>user_1227@yahoo.com</td>\n",
       "      <td>1992-04-02</td>\n",
       "      <td>Neuss</td>\n",
       "      <td>DE</td>\n",
       "      <td>0</td>\n",
       "      <td>1</td>\n",
       "      <td>650</td>\n",
       "      <td>2015-08-12 11:11:07</td>\n",
       "      <td>NaN</td>\n",
       "    </tr>\n",
       "    <tr>\n",
       "      <th>4</th>\n",
       "      <td>7</td>\n",
       "      <td>Mrs</td>\n",
       "      <td>user_5940@yahoo.com</td>\n",
       "      <td>1984-09-17</td>\n",
       "      <td>Herne</td>\n",
       "      <td>DE</td>\n",
       "      <td>0</td>\n",
       "      <td>0</td>\n",
       "      <td>1770</td>\n",
       "      <td>2015-08-12 14:27:41</td>\n",
       "      <td>NaN</td>\n",
       "    </tr>\n",
       "  </tbody>\n",
       "</table>\n",
       "</div>"
      ],
      "text/plain": [
       "   id title                 email    birthday       city country  magazin  \\\n",
       "0   2   Mrs   user_65991@mail.com  1976-03-24    Hanover      DE        0   \n",
       "1   4    Mr  user_36039@gmail.com  1975-07-05    Dresden      DE        0   \n",
       "2   5   Mrs   user_90819@mail.com  1986-03-07  Bielefeld      DE        0   \n",
       "3   6   Mrs   user_1227@yahoo.com  1992-04-02      Neuss      DE        0   \n",
       "4   7   Mrs   user_5940@yahoo.com  1984-09-17      Herne      DE        0   \n",
       "\n",
       "   newsletter  bonuspoints             created  invited_by_frontend_user_id  \n",
       "0           1         3295 2015-08-11 14:42:43                          NaN  \n",
       "1           1          500 2015-08-12 09:42:15                          NaN  \n",
       "2           1         1100 2015-08-12 11:02:26                          NaN  \n",
       "3           1          650 2015-08-12 11:11:07                          NaN  \n",
       "4           0         1770 2015-08-12 14:27:41                          NaN  "
      ]
     },
     "execution_count": 4,
     "metadata": {},
     "output_type": "execute_result"
    }
   ],
   "source": [
    "frontend_users_df.head()"
   ]
  },
  {
   "cell_type": "code",
   "execution_count": 5,
   "metadata": {},
   "outputs": [],
   "source": [
    "frontend_users_df['birthday'] = pd.to_datetime(frontend_users_df['birthday'], errors = 'coerce')"
   ]
  },
  {
   "cell_type": "markdown",
   "metadata": {},
   "source": [
    "Converting DoB to Age"
   ]
  },
  {
   "cell_type": "code",
   "execution_count": 6,
   "metadata": {},
   "outputs": [
    {
     "data": {
      "text/html": [
       "<div>\n",
       "<style scoped>\n",
       "    .dataframe tbody tr th:only-of-type {\n",
       "        vertical-align: middle;\n",
       "    }\n",
       "\n",
       "    .dataframe tbody tr th {\n",
       "        vertical-align: top;\n",
       "    }\n",
       "\n",
       "    .dataframe thead th {\n",
       "        text-align: right;\n",
       "    }\n",
       "</style>\n",
       "<table border=\"1\" class=\"dataframe\">\n",
       "  <thead>\n",
       "    <tr style=\"text-align: right;\">\n",
       "      <th></th>\n",
       "      <th>id</th>\n",
       "      <th>title</th>\n",
       "      <th>email</th>\n",
       "      <th>age</th>\n",
       "      <th>city</th>\n",
       "      <th>country</th>\n",
       "      <th>magazin</th>\n",
       "      <th>newsletter</th>\n",
       "      <th>bonuspoints</th>\n",
       "      <th>created</th>\n",
       "      <th>invited_by_frontend_user_id</th>\n",
       "    </tr>\n",
       "  </thead>\n",
       "  <tbody>\n",
       "    <tr>\n",
       "      <th>0</th>\n",
       "      <td>2</td>\n",
       "      <td>Mrs</td>\n",
       "      <td>user_65991@mail.com</td>\n",
       "      <td>42.0</td>\n",
       "      <td>Hanover</td>\n",
       "      <td>DE</td>\n",
       "      <td>0</td>\n",
       "      <td>1</td>\n",
       "      <td>3295</td>\n",
       "      <td>2015-08-11 14:42:43</td>\n",
       "      <td>NaN</td>\n",
       "    </tr>\n",
       "    <tr>\n",
       "      <th>1</th>\n",
       "      <td>4</td>\n",
       "      <td>Mr</td>\n",
       "      <td>user_36039@gmail.com</td>\n",
       "      <td>42.0</td>\n",
       "      <td>Dresden</td>\n",
       "      <td>DE</td>\n",
       "      <td>0</td>\n",
       "      <td>1</td>\n",
       "      <td>500</td>\n",
       "      <td>2015-08-12 09:42:15</td>\n",
       "      <td>NaN</td>\n",
       "    </tr>\n",
       "    <tr>\n",
       "      <th>2</th>\n",
       "      <td>5</td>\n",
       "      <td>Mrs</td>\n",
       "      <td>user_90819@mail.com</td>\n",
       "      <td>32.0</td>\n",
       "      <td>Bielefeld</td>\n",
       "      <td>DE</td>\n",
       "      <td>0</td>\n",
       "      <td>1</td>\n",
       "      <td>1100</td>\n",
       "      <td>2015-08-12 11:02:26</td>\n",
       "      <td>NaN</td>\n",
       "    </tr>\n",
       "    <tr>\n",
       "      <th>3</th>\n",
       "      <td>6</td>\n",
       "      <td>Mrs</td>\n",
       "      <td>user_1227@yahoo.com</td>\n",
       "      <td>26.0</td>\n",
       "      <td>Neuss</td>\n",
       "      <td>DE</td>\n",
       "      <td>0</td>\n",
       "      <td>1</td>\n",
       "      <td>650</td>\n",
       "      <td>2015-08-12 11:11:07</td>\n",
       "      <td>NaN</td>\n",
       "    </tr>\n",
       "    <tr>\n",
       "      <th>4</th>\n",
       "      <td>7</td>\n",
       "      <td>Mrs</td>\n",
       "      <td>user_5940@yahoo.com</td>\n",
       "      <td>33.0</td>\n",
       "      <td>Herne</td>\n",
       "      <td>DE</td>\n",
       "      <td>0</td>\n",
       "      <td>0</td>\n",
       "      <td>1770</td>\n",
       "      <td>2015-08-12 14:27:41</td>\n",
       "      <td>NaN</td>\n",
       "    </tr>\n",
       "  </tbody>\n",
       "</table>\n",
       "</div>"
      ],
      "text/plain": [
       "   id title                 email   age       city country  magazin  \\\n",
       "0   2   Mrs   user_65991@mail.com  42.0    Hanover      DE        0   \n",
       "1   4    Mr  user_36039@gmail.com  42.0    Dresden      DE        0   \n",
       "2   5   Mrs   user_90819@mail.com  32.0  Bielefeld      DE        0   \n",
       "3   6   Mrs   user_1227@yahoo.com  26.0      Neuss      DE        0   \n",
       "4   7   Mrs   user_5940@yahoo.com  33.0      Herne      DE        0   \n",
       "\n",
       "   newsletter  bonuspoints             created  invited_by_frontend_user_id  \n",
       "0           1         3295 2015-08-11 14:42:43                          NaN  \n",
       "1           1          500 2015-08-12 09:42:15                          NaN  \n",
       "2           1         1100 2015-08-12 11:02:26                          NaN  \n",
       "3           1          650 2015-08-12 11:11:07                          NaN  \n",
       "4           0         1770 2015-08-12 14:27:41                          NaN  "
      ]
     },
     "execution_count": 6,
     "metadata": {},
     "output_type": "execute_result"
    }
   ],
   "source": [
    "now = pd.Timestamp(DT.datetime.now())\n",
    "frontend_users_df['birthday'] = pd.to_datetime(frontend_users_df['birthday'], format = '%m%d%y')\n",
    "frontend_users_df['birthday'] = frontend_users_df['birthday'].where(frontend_users_df['birthday'] < now, frontend_users_df['birthday'] -  np.timedelta64(100, 'Y'))\n",
    "frontend_users_df['birthday'] = (now - frontend_users_df['birthday']).astype('<m8[Y]')\n",
    "frontend_users_df.rename(columns={'birthday':'age'}, inplace=True)\n",
    "frontend_users_df.head()"
   ]
  },
  {
   "cell_type": "code",
   "execution_count": 7,
   "metadata": {},
   "outputs": [
    {
     "data": {
      "text/plain": [
       "array(['Mrs', 'Mr'], dtype=object)"
      ]
     },
     "execution_count": 7,
     "metadata": {},
     "output_type": "execute_result"
    }
   ],
   "source": [
    "frontend_users_df['title'].unique()"
   ]
  },
  {
   "cell_type": "markdown",
   "metadata": {},
   "source": [
    "Encoding categorical variables - Mrs -> 0, Mr -> 1"
   ]
  },
  {
   "cell_type": "code",
   "execution_count": 8,
   "metadata": {},
   "outputs": [],
   "source": [
    "frontend_users_df.title.replace(('Mrs', 'Mr'), (0, 1), inplace=True)"
   ]
  },
  {
   "cell_type": "code",
   "execution_count": 9,
   "metadata": {},
   "outputs": [
    {
     "data": {
      "text/html": [
       "<div>\n",
       "<style scoped>\n",
       "    .dataframe tbody tr th:only-of-type {\n",
       "        vertical-align: middle;\n",
       "    }\n",
       "\n",
       "    .dataframe tbody tr th {\n",
       "        vertical-align: top;\n",
       "    }\n",
       "\n",
       "    .dataframe thead th {\n",
       "        text-align: right;\n",
       "    }\n",
       "</style>\n",
       "<table border=\"1\" class=\"dataframe\">\n",
       "  <thead>\n",
       "    <tr style=\"text-align: right;\">\n",
       "      <th></th>\n",
       "      <th>id</th>\n",
       "      <th>title</th>\n",
       "      <th>email</th>\n",
       "      <th>age</th>\n",
       "      <th>city</th>\n",
       "      <th>country</th>\n",
       "      <th>magazin</th>\n",
       "      <th>newsletter</th>\n",
       "      <th>bonuspoints</th>\n",
       "      <th>created</th>\n",
       "      <th>invited_by_frontend_user_id</th>\n",
       "    </tr>\n",
       "  </thead>\n",
       "  <tbody>\n",
       "    <tr>\n",
       "      <th>0</th>\n",
       "      <td>2</td>\n",
       "      <td>0</td>\n",
       "      <td>user_65991@mail.com</td>\n",
       "      <td>42.0</td>\n",
       "      <td>Hanover</td>\n",
       "      <td>DE</td>\n",
       "      <td>0</td>\n",
       "      <td>1</td>\n",
       "      <td>3295</td>\n",
       "      <td>2015-08-11 14:42:43</td>\n",
       "      <td>NaN</td>\n",
       "    </tr>\n",
       "    <tr>\n",
       "      <th>1</th>\n",
       "      <td>4</td>\n",
       "      <td>1</td>\n",
       "      <td>user_36039@gmail.com</td>\n",
       "      <td>42.0</td>\n",
       "      <td>Dresden</td>\n",
       "      <td>DE</td>\n",
       "      <td>0</td>\n",
       "      <td>1</td>\n",
       "      <td>500</td>\n",
       "      <td>2015-08-12 09:42:15</td>\n",
       "      <td>NaN</td>\n",
       "    </tr>\n",
       "    <tr>\n",
       "      <th>2</th>\n",
       "      <td>5</td>\n",
       "      <td>0</td>\n",
       "      <td>user_90819@mail.com</td>\n",
       "      <td>32.0</td>\n",
       "      <td>Bielefeld</td>\n",
       "      <td>DE</td>\n",
       "      <td>0</td>\n",
       "      <td>1</td>\n",
       "      <td>1100</td>\n",
       "      <td>2015-08-12 11:02:26</td>\n",
       "      <td>NaN</td>\n",
       "    </tr>\n",
       "    <tr>\n",
       "      <th>3</th>\n",
       "      <td>6</td>\n",
       "      <td>0</td>\n",
       "      <td>user_1227@yahoo.com</td>\n",
       "      <td>26.0</td>\n",
       "      <td>Neuss</td>\n",
       "      <td>DE</td>\n",
       "      <td>0</td>\n",
       "      <td>1</td>\n",
       "      <td>650</td>\n",
       "      <td>2015-08-12 11:11:07</td>\n",
       "      <td>NaN</td>\n",
       "    </tr>\n",
       "    <tr>\n",
       "      <th>4</th>\n",
       "      <td>7</td>\n",
       "      <td>0</td>\n",
       "      <td>user_5940@yahoo.com</td>\n",
       "      <td>33.0</td>\n",
       "      <td>Herne</td>\n",
       "      <td>DE</td>\n",
       "      <td>0</td>\n",
       "      <td>0</td>\n",
       "      <td>1770</td>\n",
       "      <td>2015-08-12 14:27:41</td>\n",
       "      <td>NaN</td>\n",
       "    </tr>\n",
       "  </tbody>\n",
       "</table>\n",
       "</div>"
      ],
      "text/plain": [
       "   id  title                 email   age       city country  magazin  \\\n",
       "0   2      0   user_65991@mail.com  42.0    Hanover      DE        0   \n",
       "1   4      1  user_36039@gmail.com  42.0    Dresden      DE        0   \n",
       "2   5      0   user_90819@mail.com  32.0  Bielefeld      DE        0   \n",
       "3   6      0   user_1227@yahoo.com  26.0      Neuss      DE        0   \n",
       "4   7      0   user_5940@yahoo.com  33.0      Herne      DE        0   \n",
       "\n",
       "   newsletter  bonuspoints             created  invited_by_frontend_user_id  \n",
       "0           1         3295 2015-08-11 14:42:43                          NaN  \n",
       "1           1          500 2015-08-12 09:42:15                          NaN  \n",
       "2           1         1100 2015-08-12 11:02:26                          NaN  \n",
       "3           1          650 2015-08-12 11:11:07                          NaN  \n",
       "4           0         1770 2015-08-12 14:27:41                          NaN  "
      ]
     },
     "execution_count": 9,
     "metadata": {},
     "output_type": "execute_result"
    }
   ],
   "source": [
    "frontend_users_df.head()"
   ]
  },
  {
   "cell_type": "markdown",
   "metadata": {},
   "source": [
    "Checking is thete any null values"
   ]
  },
  {
   "cell_type": "code",
   "execution_count": 10,
   "metadata": {},
   "outputs": [
    {
     "data": {
      "text/plain": [
       "id                                  0\n",
       "title                               0\n",
       "email                               0\n",
       "age                                 1\n",
       "city                                0\n",
       "country                             0\n",
       "magazin                             0\n",
       "newsletter                          0\n",
       "bonuspoints                         0\n",
       "created                             0\n",
       "invited_by_frontend_user_id    117303\n",
       "dtype: int64"
      ]
     },
     "execution_count": 10,
     "metadata": {},
     "output_type": "execute_result"
    }
   ],
   "source": [
    "frontend_users_df.isnull().sum()"
   ]
  },
  {
   "cell_type": "code",
   "execution_count": 11,
   "metadata": {},
   "outputs": [],
   "source": [
    "frontend_users_df['age'] = frontend_users_df['age'].fillna(frontend_users_df['age'].mean())"
   ]
  },
  {
   "cell_type": "code",
   "execution_count": 12,
   "metadata": {},
   "outputs": [],
   "source": [
    "correlation_matrix = frontend_users_df.corr(method='pearson')"
   ]
  },
  {
   "cell_type": "markdown",
   "metadata": {},
   "source": [
    "\n",
    "From matrix of correlations, we see that there is no strong correlaton between any of variables."
   ]
  },
  {
   "cell_type": "code",
   "execution_count": 13,
   "metadata": {},
   "outputs": [
    {
     "data": {
      "text/html": [
       "<div>\n",
       "<style scoped>\n",
       "    .dataframe tbody tr th:only-of-type {\n",
       "        vertical-align: middle;\n",
       "    }\n",
       "\n",
       "    .dataframe tbody tr th {\n",
       "        vertical-align: top;\n",
       "    }\n",
       "\n",
       "    .dataframe thead th {\n",
       "        text-align: right;\n",
       "    }\n",
       "</style>\n",
       "<table border=\"1\" class=\"dataframe\">\n",
       "  <thead>\n",
       "    <tr style=\"text-align: right;\">\n",
       "      <th></th>\n",
       "      <th>id</th>\n",
       "      <th>title</th>\n",
       "      <th>age</th>\n",
       "      <th>magazin</th>\n",
       "      <th>newsletter</th>\n",
       "      <th>bonuspoints</th>\n",
       "      <th>invited_by_frontend_user_id</th>\n",
       "    </tr>\n",
       "  </thead>\n",
       "  <tbody>\n",
       "    <tr>\n",
       "      <th>id</th>\n",
       "      <td>1.000000</td>\n",
       "      <td>0.048877</td>\n",
       "      <td>-0.043003</td>\n",
       "      <td>NaN</td>\n",
       "      <td>-0.041337</td>\n",
       "      <td>-0.308726</td>\n",
       "      <td>0.456466</td>\n",
       "    </tr>\n",
       "    <tr>\n",
       "      <th>title</th>\n",
       "      <td>0.048877</td>\n",
       "      <td>1.000000</td>\n",
       "      <td>0.120707</td>\n",
       "      <td>NaN</td>\n",
       "      <td>-0.043219</td>\n",
       "      <td>-0.060314</td>\n",
       "      <td>0.079163</td>\n",
       "    </tr>\n",
       "    <tr>\n",
       "      <th>age</th>\n",
       "      <td>-0.043003</td>\n",
       "      <td>0.120707</td>\n",
       "      <td>1.000000</td>\n",
       "      <td>NaN</td>\n",
       "      <td>0.197901</td>\n",
       "      <td>0.092864</td>\n",
       "      <td>-0.033278</td>\n",
       "    </tr>\n",
       "    <tr>\n",
       "      <th>magazin</th>\n",
       "      <td>NaN</td>\n",
       "      <td>NaN</td>\n",
       "      <td>NaN</td>\n",
       "      <td>NaN</td>\n",
       "      <td>NaN</td>\n",
       "      <td>NaN</td>\n",
       "      <td>NaN</td>\n",
       "    </tr>\n",
       "    <tr>\n",
       "      <th>newsletter</th>\n",
       "      <td>-0.041337</td>\n",
       "      <td>-0.043219</td>\n",
       "      <td>0.197901</td>\n",
       "      <td>NaN</td>\n",
       "      <td>1.000000</td>\n",
       "      <td>0.269926</td>\n",
       "      <td>0.040959</td>\n",
       "    </tr>\n",
       "    <tr>\n",
       "      <th>bonuspoints</th>\n",
       "      <td>-0.308726</td>\n",
       "      <td>-0.060314</td>\n",
       "      <td>0.092864</td>\n",
       "      <td>NaN</td>\n",
       "      <td>0.269926</td>\n",
       "      <td>1.000000</td>\n",
       "      <td>-0.147839</td>\n",
       "    </tr>\n",
       "    <tr>\n",
       "      <th>invited_by_frontend_user_id</th>\n",
       "      <td>0.456466</td>\n",
       "      <td>0.079163</td>\n",
       "      <td>-0.033278</td>\n",
       "      <td>NaN</td>\n",
       "      <td>0.040959</td>\n",
       "      <td>-0.147839</td>\n",
       "      <td>1.000000</td>\n",
       "    </tr>\n",
       "  </tbody>\n",
       "</table>\n",
       "</div>"
      ],
      "text/plain": [
       "                                   id     title       age  magazin  \\\n",
       "id                           1.000000  0.048877 -0.043003      NaN   \n",
       "title                        0.048877  1.000000  0.120707      NaN   \n",
       "age                         -0.043003  0.120707  1.000000      NaN   \n",
       "magazin                           NaN       NaN       NaN      NaN   \n",
       "newsletter                  -0.041337 -0.043219  0.197901      NaN   \n",
       "bonuspoints                 -0.308726 -0.060314  0.092864      NaN   \n",
       "invited_by_frontend_user_id  0.456466  0.079163 -0.033278      NaN   \n",
       "\n",
       "                             newsletter  bonuspoints  \\\n",
       "id                            -0.041337    -0.308726   \n",
       "title                         -0.043219    -0.060314   \n",
       "age                            0.197901     0.092864   \n",
       "magazin                             NaN          NaN   \n",
       "newsletter                     1.000000     0.269926   \n",
       "bonuspoints                    0.269926     1.000000   \n",
       "invited_by_frontend_user_id    0.040959    -0.147839   \n",
       "\n",
       "                             invited_by_frontend_user_id  \n",
       "id                                              0.456466  \n",
       "title                                           0.079163  \n",
       "age                                            -0.033278  \n",
       "magazin                                              NaN  \n",
       "newsletter                                      0.040959  \n",
       "bonuspoints                                    -0.147839  \n",
       "invited_by_frontend_user_id                     1.000000  "
      ]
     },
     "execution_count": 13,
     "metadata": {},
     "output_type": "execute_result"
    }
   ],
   "source": [
    "correlation_matrix"
   ]
  },
  {
   "cell_type": "code",
   "execution_count": 14,
   "metadata": {},
   "outputs": [
    {
     "data": {
      "text/html": [
       "<div>\n",
       "<style scoped>\n",
       "    .dataframe tbody tr th:only-of-type {\n",
       "        vertical-align: middle;\n",
       "    }\n",
       "\n",
       "    .dataframe tbody tr th {\n",
       "        vertical-align: top;\n",
       "    }\n",
       "\n",
       "    .dataframe thead th {\n",
       "        text-align: right;\n",
       "    }\n",
       "</style>\n",
       "<table border=\"1\" class=\"dataframe\">\n",
       "  <thead>\n",
       "    <tr style=\"text-align: right;\">\n",
       "      <th></th>\n",
       "      <th>id</th>\n",
       "      <th>title</th>\n",
       "      <th>age</th>\n",
       "      <th>magazin</th>\n",
       "      <th>newsletter</th>\n",
       "      <th>bonuspoints</th>\n",
       "      <th>invited_by_frontend_user_id</th>\n",
       "    </tr>\n",
       "  </thead>\n",
       "  <tbody>\n",
       "    <tr>\n",
       "      <th>count</th>\n",
       "      <td>119852.000000</td>\n",
       "      <td>119852.000000</td>\n",
       "      <td>119852.000000</td>\n",
       "      <td>119852.0</td>\n",
       "      <td>119852.000000</td>\n",
       "      <td>119852.000000</td>\n",
       "      <td>2549.000000</td>\n",
       "    </tr>\n",
       "    <tr>\n",
       "      <th>mean</th>\n",
       "      <td>65944.527150</td>\n",
       "      <td>0.082644</td>\n",
       "      <td>37.607947</td>\n",
       "      <td>0.0</td>\n",
       "      <td>0.541710</td>\n",
       "      <td>665.850132</td>\n",
       "      <td>27697.896822</td>\n",
       "    </tr>\n",
       "    <tr>\n",
       "      <th>std</th>\n",
       "      <td>38918.732454</td>\n",
       "      <td>0.275344</td>\n",
       "      <td>12.502071</td>\n",
       "      <td>0.0</td>\n",
       "      <td>0.498259</td>\n",
       "      <td>944.300682</td>\n",
       "      <td>24107.862140</td>\n",
       "    </tr>\n",
       "    <tr>\n",
       "      <th>min</th>\n",
       "      <td>2.000000</td>\n",
       "      <td>0.000000</td>\n",
       "      <td>18.000000</td>\n",
       "      <td>0.0</td>\n",
       "      <td>0.000000</td>\n",
       "      <td>-2210.000000</td>\n",
       "      <td>2.000000</td>\n",
       "    </tr>\n",
       "    <tr>\n",
       "      <th>25%</th>\n",
       "      <td>31911.750000</td>\n",
       "      <td>0.000000</td>\n",
       "      <td>28.000000</td>\n",
       "      <td>0.0</td>\n",
       "      <td>0.000000</td>\n",
       "      <td>200.000000</td>\n",
       "      <td>22148.000000</td>\n",
       "    </tr>\n",
       "    <tr>\n",
       "      <th>50%</th>\n",
       "      <td>65711.500000</td>\n",
       "      <td>0.000000</td>\n",
       "      <td>35.000000</td>\n",
       "      <td>0.0</td>\n",
       "      <td>1.000000</td>\n",
       "      <td>350.000000</td>\n",
       "      <td>22148.000000</td>\n",
       "    </tr>\n",
       "    <tr>\n",
       "      <th>75%</th>\n",
       "      <td>99662.250000</td>\n",
       "      <td>0.000000</td>\n",
       "      <td>46.000000</td>\n",
       "      <td>0.0</td>\n",
       "      <td>1.000000</td>\n",
       "      <td>700.000000</td>\n",
       "      <td>22148.000000</td>\n",
       "    </tr>\n",
       "    <tr>\n",
       "      <th>max</th>\n",
       "      <td>133816.000000</td>\n",
       "      <td>1.000000</td>\n",
       "      <td>117.000000</td>\n",
       "      <td>0.0</td>\n",
       "      <td>1.000000</td>\n",
       "      <td>12490.000000</td>\n",
       "      <td>130274.000000</td>\n",
       "    </tr>\n",
       "  </tbody>\n",
       "</table>\n",
       "</div>"
      ],
      "text/plain": [
       "                  id          title            age   magazin     newsletter  \\\n",
       "count  119852.000000  119852.000000  119852.000000  119852.0  119852.000000   \n",
       "mean    65944.527150       0.082644      37.607947       0.0       0.541710   \n",
       "std     38918.732454       0.275344      12.502071       0.0       0.498259   \n",
       "min         2.000000       0.000000      18.000000       0.0       0.000000   \n",
       "25%     31911.750000       0.000000      28.000000       0.0       0.000000   \n",
       "50%     65711.500000       0.000000      35.000000       0.0       1.000000   \n",
       "75%     99662.250000       0.000000      46.000000       0.0       1.000000   \n",
       "max    133816.000000       1.000000     117.000000       0.0       1.000000   \n",
       "\n",
       "         bonuspoints  invited_by_frontend_user_id  \n",
       "count  119852.000000                  2549.000000  \n",
       "mean      665.850132                 27697.896822  \n",
       "std       944.300682                 24107.862140  \n",
       "min     -2210.000000                     2.000000  \n",
       "25%       200.000000                 22148.000000  \n",
       "50%       350.000000                 22148.000000  \n",
       "75%       700.000000                 22148.000000  \n",
       "max     12490.000000                130274.000000  "
      ]
     },
     "execution_count": 14,
     "metadata": {},
     "output_type": "execute_result"
    }
   ],
   "source": [
    "frontend_users_df.describe()"
   ]
  },
  {
   "cell_type": "markdown",
   "metadata": {},
   "source": [
    "From histogram bellow, we see that there is a lot more women than men"
   ]
  },
  {
   "cell_type": "code",
   "execution_count": 15,
   "metadata": {},
   "outputs": [
    {
     "name": "stdout",
     "output_type": "stream",
     "text": [
      "Title Histogram\n",
      "Men count: 9905\n",
      "Woman count: 109947\n"
     ]
    },
    {
     "data": {
      "image/png": "[encoded data removed]",
      "text/plain": [
       "<matplotlib.figure.Figure at 0x7f87a607af98>"
      ]
     },
     "metadata": {},
     "output_type": "display_data"
    }
   ],
   "source": [
    "frontend_users_df['title'].hist()\n",
    "men_count = frontend_users_df['title'].sum()\n",
    "women_count = frontend_users_df['title'].shape[0] - men_count\n",
    "print('Title Histogram')\n",
    "print('Men count: {}'.format(men_count))\n",
    "print('Woman count: {}'.format(women_count))"
   ]
  },
  {
   "cell_type": "markdown",
   "metadata": {},
   "source": [
    "From Age Histogram we see, that most of the users are something between 30 and 38 years old."
   ]
  },
  {
   "cell_type": "code",
   "execution_count": 16,
   "metadata": {},
   "outputs": [
    {
     "name": "stdout",
     "output_type": "stream",
     "text": [
      "Age Histogram\n",
      "Youngest user is 18 years old\n",
      "Oldest user is 117 years old\n"
     ]
    },
    {
     "data": {
      "image/png": "[encoded data removed]",
      "text/plain": [
       "<matplotlib.figure.Figure at 0x7f87a5dc6d68>"
      ]
     },
     "metadata": {},
     "output_type": "display_data"
    }
   ],
   "source": [
    "frontend_users_df['age'].hist()\n",
    "print('Age Histogram')\n",
    "print(\"Youngest user is {} years old\".format(int(frontend_users_df['age'].min())))\n",
    "print(\"Oldest user is {} years old\".format(int(frontend_users_df['age'].max())))"
   ]
  },
  {
   "cell_type": "markdown",
   "metadata": {},
   "source": [
    "From Magazin Histogram we see that there is no user subsribed to magazine"
   ]
  },
  {
   "cell_type": "code",
   "execution_count": 17,
   "metadata": {},
   "outputs": [
    {
     "name": "stdout",
     "output_type": "stream",
     "text": [
      "Magazin Histogram\n"
     ]
    },
    {
     "data": {
      "image/png": "[encoded data removed]",
      "text/plain": [
       "<matplotlib.figure.Figure at 0x7f87a6079208>"
      ]
     },
     "metadata": {},
     "output_type": "display_data"
    }
   ],
   "source": [
    "frontend_users_df['magazin'].hist()\n",
    "print('Magazin Histogram')"
   ]
  },
  {
   "cell_type": "code",
   "execution_count": 18,
   "metadata": {},
   "outputs": [
    {
     "name": "stdout",
     "output_type": "stream",
     "text": [
      "64925 users use newsletter\n"
     ]
    },
    {
     "data": {
      "image/png": "[encoded data removed]",
      "text/plain": [
       "<matplotlib.figure.Figure at 0x7f87a5c8ce80>"
      ]
     },
     "metadata": {},
     "output_type": "display_data"
    }
   ],
   "source": [
    "frontend_users_df['newsletter'].hist()\n",
    "use_newsletter = frontend_users_df['newsletter'].sum()\n",
    "print('{} users use newsletter'.format(use_newsletter))"
   ]
  },
  {
   "cell_type": "code",
   "execution_count": 19,
   "metadata": {},
   "outputs": [
    {
     "name": "stdout",
     "output_type": "stream",
     "text": [
      "Bonus points histogram\n"
     ]
    },
    {
     "data": {
      "image/png": "[encoded data removed]",
      "text/plain": [
       "<matplotlib.figure.Figure at 0x7f87a5bdfb00>"
      ]
     },
     "metadata": {},
     "output_type": "display_data"
    }
   ],
   "source": [
    "frontend_users_df['bonuspoints'].hist()\n",
    "print('Bonus points histogram')"
   ]
  },
  {
   "cell_type": "markdown",
   "metadata": {},
   "source": [
    "We see that all users come from Germany"
   ]
  },
  {
   "cell_type": "code",
   "execution_count": 20,
   "metadata": {},
   "outputs": [
    {
     "name": "stdout",
     "output_type": "stream",
     "text": [
      "['DE']\n"
     ]
    }
   ],
   "source": [
    "country_count = frontend_users_df['country'].unique()\n",
    "cities = frontend_users_df['city'].unique()\n",
    "print(country_count)"
   ]
  },
  {
   "cell_type": "code",
   "execution_count": 21,
   "metadata": {},
   "outputs": [
    {
     "name": "stdout",
     "output_type": "stream",
     "text": [
      "Users comes from 79 different cities\n"
     ]
    }
   ],
   "source": [
    "print('Users comes from {} different cities'.format(cities.size))"
   ]
  },
  {
   "cell_type": "markdown",
   "metadata": {},
   "source": [
    "List of all cities"
   ]
  },
  {
   "cell_type": "code",
   "execution_count": 22,
   "metadata": {},
   "outputs": [
    {
     "data": {
      "text/plain": [
       "array(['Hanover', 'Dresden', 'Bielefeld', 'Neuss', 'Herne', 'Wiesbaden',\n",
       "       'Mülheim an der Ruhr', 'Göttingen', 'Erfurt', 'Bottrop',\n",
       "       'Wolfsburg', 'Gelsenkirchen', 'Potsdam', 'Remscheid', 'Moers',\n",
       "       'Hildesheim', 'Hamburg', 'Duisburg', 'Reutlingen', 'Augsburg',\n",
       "       'Offenbach', 'Oldenburg', 'Salzgitter', 'Mönchengladbach',\n",
       "       'Paderborn', 'Oberhausen', 'Bochum', 'Heidelberg', 'Bonn',\n",
       "       'Koblenz', 'Darmstadt', 'Kiel', 'Heilbronn', 'Recklinghausen',\n",
       "       'Bergisch Gladbach', 'Magdeburg', 'Munich', 'Bremen', 'Leipzig',\n",
       "       'Nuremberg', 'Essen', 'Cologne', 'Jena', 'Krefeld', 'Halle',\n",
       "       'Fürth', 'Münster', 'Braunschweig', 'Osnabrück', 'Dortmund',\n",
       "       'Pforzheim', 'Chemnitz', 'Solingen', 'Trier',\n",
       "       'Ludwigshafen am Rhein', 'Hamm', 'Stuttgart', 'Rostock',\n",
       "       'Leverkusen', 'Mannheim', 'Lübeck', 'Freiburg im Breisgau', 'Ulm',\n",
       "       'Bremerhaven', 'Karlsruh', 'Hagen', 'Aachen', 'Erlangen',\n",
       "       'Saarbrücken', 'Siegen', 'Kassel', 'Berlin', 'Düsseldorf',\n",
       "       'Frankfurt', 'Wuppertal', 'Würzburg', 'Ingolstadt', 'Mainz',\n",
       "       'Regensburg'], dtype=object)"
      ]
     },
     "execution_count": 22,
     "metadata": {},
     "output_type": "execute_result"
    }
   ],
   "source": [
    "cities"
   ]
  },
  {
   "cell_type": "code",
   "execution_count": 23,
   "metadata": {},
   "outputs": [
    {
     "data": {
      "text/plain": [
       "<matplotlib.collections.PathCollection at 0x7f87a5ad9630>"
      ]
     },
     "execution_count": 23,
     "metadata": {},
     "output_type": "execute_result"
    },
    {
     "data": {
      "image/png": "[encoded data removed]",
      "text/plain": [
       "<matplotlib.figure.Figure at 0x7f87a5bbad68>"
      ]
     },
     "metadata": {},
     "output_type": "display_data"
    }
   ],
   "source": [
    "plt.scatter(frontend_users_df['age'].values, frontend_users_df['bonuspoints'].values)"
   ]
  },
  {
   "cell_type": "code",
   "execution_count": 24,
   "metadata": {},
   "outputs": [],
   "source": [
    "title_bonus_points = frontend_users_df.iloc[:, [1,8]].values\n",
    "age = frontend_users_df.iloc[:, 3].values\n",
    "from sklearn.model_selection import train_test_split\n",
    "X_train, X_test, y_train, y_test = train_test_split(title_bonus_points,age,test_size=0.3,random_state=42)"
   ]
  },
  {
   "cell_type": "code",
   "execution_count": 25,
   "metadata": {},
   "outputs": [
    {
     "data": {
      "text/plain": [
       "Index(['id', 'title', 'email', 'age', 'city', 'country', 'magazin',\n",
       "       'newsletter', 'bonuspoints', 'created', 'invited_by_frontend_user_id'],\n",
       "      dtype='object')"
      ]
     },
     "execution_count": 25,
     "metadata": {},
     "output_type": "execute_result"
    }
   ],
   "source": [
    "frontend_users_df.columns"
   ]
  },
  {
   "cell_type": "code",
   "execution_count": 26,
   "metadata": {},
   "outputs": [],
   "source": [
    "from sklearn.linear_model import LinearRegression, Ridge, Lasso, ElasticNet\n",
    "from sklearn.tree import DecisionTreeRegressor\n",
    "from sklearn.ensemble import ExtraTreesRegressor, RandomForestRegressor\n",
    "from sklearn.neighbors import KNeighborsRegressor\n",
    "\n",
    "from sklearn.metrics import explained_variance_score, mean_absolute_error"
   ]
  },
  {
   "cell_type": "code",
   "execution_count": 27,
   "metadata": {},
   "outputs": [],
   "source": [
    "models = []\n",
    "models.append(('Linear Regression', LinearRegression()))\n",
    "models.append(('Ridge Regression', Ridge()))\n",
    "models.append(('Lasso Regression', Lasso()))\n",
    "models.append(('ElasticNet', ElasticNet()))\n",
    "models.append(('Decision Tree Regressor', DecisionTreeRegressor()))\n",
    "models.append(('Extra Tree Regressor', ExtraTreesRegressor()))\n",
    "models.append(('RandomForestRegressor', RandomForestRegressor()))"
   ]
  },
  {
   "cell_type": "code",
   "execution_count": 28,
   "metadata": {
    "scrolled": true
   },
   "outputs": [
    {
     "name": "stdout",
     "output_type": "stream",
     "text": [
      "Linear Regression: (0.027264872090449033) (10.118284326107101)\n",
      "Ridge Regression: (0.027264507508542035) (10.118289291571779)\n",
      "Lasso Regression: (0.009575267093108852) (10.211230785155259)\n",
      "ElasticNet: (0.009575791171287484) (10.211216899210909)\n",
      "Decision Tree Regressor: (0.025871789258677058) (10.085218337440054)\n",
      "Extra Tree Regressor: (0.026659372348161514) (10.08447341860532)\n",
      "RandomForestRegressor: (0.030096622505446313) (10.071206674700354)\n"
     ]
    }
   ],
   "source": [
    "for name, model in models:\n",
    "    # Fit the model\n",
    "    model.fit(X_train, y_train)\n",
    "    \n",
    "    predictions = model.predict(X_test)\n",
    "    \n",
    "    # Evaluate the model\n",
    "    score = explained_variance_score(y_test, predictions)\n",
    "    mae = mean_absolute_error(predictions, y_test)\n",
    "    \n",
    "    msg = \"{}: ({}) ({})\".format(name, score, mae)\n",
    "    print(msg)"
   ]
  },
  {
   "cell_type": "markdown",
   "metadata": {},
   "source": [
    "Tried to predict age from title and bonus points which is impossible. Best predictor is Random Forest, but not good enough. Looking plots of variables, it also impossible to cluster data."
   ]
  },
  {
   "cell_type": "code",
   "execution_count": 29,
   "metadata": {},
   "outputs": [],
   "source": [
    "action_participations_df = pd.read_sql(\n",
    "                        'SELECT * FROM action_participations', conn)"
   ]
  },
  {
   "cell_type": "code",
   "execution_count": 30,
   "metadata": {},
   "outputs": [
    {
     "data": {
      "text/html": [
       "<div>\n",
       "<style scoped>\n",
       "    .dataframe tbody tr th:only-of-type {\n",
       "        vertical-align: middle;\n",
       "    }\n",
       "\n",
       "    .dataframe tbody tr th {\n",
       "        vertical-align: top;\n",
       "    }\n",
       "\n",
       "    .dataframe thead th {\n",
       "        text-align: right;\n",
       "    }\n",
       "</style>\n",
       "<table border=\"1\" class=\"dataframe\">\n",
       "  <thead>\n",
       "    <tr style=\"text-align: right;\">\n",
       "      <th></th>\n",
       "      <th>id</th>\n",
       "      <th>frontend_user_id</th>\n",
       "      <th>action_id</th>\n",
       "    </tr>\n",
       "  </thead>\n",
       "  <tbody>\n",
       "    <tr>\n",
       "      <th>count</th>\n",
       "      <td>922258.000000</td>\n",
       "      <td>922258.000000</td>\n",
       "      <td>922258.00000</td>\n",
       "    </tr>\n",
       "    <tr>\n",
       "      <th>mean</th>\n",
       "      <td>462752.104320</td>\n",
       "      <td>37897.947534</td>\n",
       "      <td>489.32868</td>\n",
       "    </tr>\n",
       "    <tr>\n",
       "      <th>std</th>\n",
       "      <td>266898.853464</td>\n",
       "      <td>35440.900619</td>\n",
       "      <td>208.56805</td>\n",
       "    </tr>\n",
       "    <tr>\n",
       "      <th>min</th>\n",
       "      <td>1.000000</td>\n",
       "      <td>2.000000</td>\n",
       "      <td>7.00000</td>\n",
       "    </tr>\n",
       "    <tr>\n",
       "      <th>25%</th>\n",
       "      <td>231662.250000</td>\n",
       "      <td>8657.000000</td>\n",
       "      <td>275.00000</td>\n",
       "    </tr>\n",
       "    <tr>\n",
       "      <th>50%</th>\n",
       "      <td>462982.500000</td>\n",
       "      <td>28500.000000</td>\n",
       "      <td>521.00000</td>\n",
       "    </tr>\n",
       "    <tr>\n",
       "      <th>75%</th>\n",
       "      <td>693912.750000</td>\n",
       "      <td>55116.750000</td>\n",
       "      <td>684.00000</td>\n",
       "    </tr>\n",
       "    <tr>\n",
       "      <th>max</th>\n",
       "      <td>924659.000000</td>\n",
       "      <td>133816.000000</td>\n",
       "      <td>1076.00000</td>\n",
       "    </tr>\n",
       "  </tbody>\n",
       "</table>\n",
       "</div>"
      ],
      "text/plain": [
       "                  id  frontend_user_id     action_id\n",
       "count  922258.000000     922258.000000  922258.00000\n",
       "mean   462752.104320      37897.947534     489.32868\n",
       "std    266898.853464      35440.900619     208.56805\n",
       "min         1.000000          2.000000       7.00000\n",
       "25%    231662.250000       8657.000000     275.00000\n",
       "50%    462982.500000      28500.000000     521.00000\n",
       "75%    693912.750000      55116.750000     684.00000\n",
       "max    924659.000000     133816.000000    1076.00000"
      ]
     },
     "execution_count": 30,
     "metadata": {},
     "output_type": "execute_result"
    }
   ],
   "source": [
    "action_participations_df.describe()"
   ]
  },
  {
   "cell_type": "code",
   "execution_count": 31,
   "metadata": {},
   "outputs": [
    {
     "data": {
      "text/plain": [
       "Index(['id', 'frontend_user_id', 'action_id', 'status', 'action_module_name',\n",
       "       'created', 'modified'],\n",
       "      dtype='object')"
      ]
     },
     "execution_count": 31,
     "metadata": {},
     "output_type": "execute_result"
    }
   ],
   "source": [
    "action_participations_df.columns\n"
   ]
  },
  {
   "cell_type": "code",
   "execution_count": 32,
   "metadata": {},
   "outputs": [
    {
     "data": {
      "text/html": [
       "<div>\n",
       "<style scoped>\n",
       "    .dataframe tbody tr th:only-of-type {\n",
       "        vertical-align: middle;\n",
       "    }\n",
       "\n",
       "    .dataframe tbody tr th {\n",
       "        vertical-align: top;\n",
       "    }\n",
       "\n",
       "    .dataframe thead th {\n",
       "        text-align: right;\n",
       "    }\n",
       "</style>\n",
       "<table border=\"1\" class=\"dataframe\">\n",
       "  <thead>\n",
       "    <tr style=\"text-align: right;\">\n",
       "      <th></th>\n",
       "      <th>id</th>\n",
       "      <th>frontend_user_id</th>\n",
       "      <th>action_id</th>\n",
       "      <th>status</th>\n",
       "      <th>action_module_name</th>\n",
       "      <th>created</th>\n",
       "      <th>modified</th>\n",
       "    </tr>\n",
       "  </thead>\n",
       "  <tbody>\n",
       "    <tr>\n",
       "      <th>0</th>\n",
       "      <td>1</td>\n",
       "      <td>2</td>\n",
       "      <td>7</td>\n",
       "      <td>participate</td>\n",
       "      <td>Coupon</td>\n",
       "      <td>2015-08-12 13:53:53</td>\n",
       "      <td>0000-00-00 00:00:00</td>\n",
       "    </tr>\n",
       "    <tr>\n",
       "      <th>1</th>\n",
       "      <td>2</td>\n",
       "      <td>7</td>\n",
       "      <td>15</td>\n",
       "      <td>participate</td>\n",
       "      <td>PhotoContest</td>\n",
       "      <td>2015-08-12 14:50:26</td>\n",
       "      <td>0000-00-00 00:00:00</td>\n",
       "    </tr>\n",
       "    <tr>\n",
       "      <th>2</th>\n",
       "      <td>4</td>\n",
       "      <td>5</td>\n",
       "      <td>21</td>\n",
       "      <td>participate</td>\n",
       "      <td>Poll</td>\n",
       "      <td>2015-08-13 12:05:51</td>\n",
       "      <td>0000-00-00 00:00:00</td>\n",
       "    </tr>\n",
       "    <tr>\n",
       "      <th>3</th>\n",
       "      <td>5</td>\n",
       "      <td>5</td>\n",
       "      <td>12</td>\n",
       "      <td>participate</td>\n",
       "      <td>Coupon</td>\n",
       "      <td>2015-08-13 13:52:39</td>\n",
       "      <td>0000-00-00 00:00:00</td>\n",
       "    </tr>\n",
       "    <tr>\n",
       "      <th>4</th>\n",
       "      <td>6</td>\n",
       "      <td>9</td>\n",
       "      <td>15</td>\n",
       "      <td>participate</td>\n",
       "      <td>PhotoContest</td>\n",
       "      <td>2015-08-13 14:41:09</td>\n",
       "      <td>0000-00-00 00:00:00</td>\n",
       "    </tr>\n",
       "  </tbody>\n",
       "</table>\n",
       "</div>"
      ],
      "text/plain": [
       "   id  frontend_user_id  action_id       status action_module_name  \\\n",
       "0   1                 2          7  participate             Coupon   \n",
       "1   2                 7         15  participate       PhotoContest   \n",
       "2   4                 5         21  participate               Poll   \n",
       "3   5                 5         12  participate             Coupon   \n",
       "4   6                 9         15  participate       PhotoContest   \n",
       "\n",
       "              created             modified  \n",
       "0 2015-08-12 13:53:53  0000-00-00 00:00:00  \n",
       "1 2015-08-12 14:50:26  0000-00-00 00:00:00  \n",
       "2 2015-08-13 12:05:51  0000-00-00 00:00:00  \n",
       "3 2015-08-13 13:52:39  0000-00-00 00:00:00  \n",
       "4 2015-08-13 14:41:09  0000-00-00 00:00:00  "
      ]
     },
     "execution_count": 32,
     "metadata": {},
     "output_type": "execute_result"
    }
   ],
   "source": [
    "action_participations_df.head()"
   ]
  },
  {
   "cell_type": "code",
   "execution_count": 33,
   "metadata": {},
   "outputs": [],
   "source": [
    "grouped = pd.read_sql(\n",
    "        'select * from frontend_users, action_participations where frontend_users.id = action_participations.frontend_user_id', conn)"
   ]
  },
  {
   "cell_type": "code",
   "execution_count": 34,
   "metadata": {},
   "outputs": [
    {
     "data": {
      "text/html": [
       "<div>\n",
       "<style scoped>\n",
       "    .dataframe tbody tr th:only-of-type {\n",
       "        vertical-align: middle;\n",
       "    }\n",
       "\n",
       "    .dataframe tbody tr th {\n",
       "        vertical-align: top;\n",
       "    }\n",
       "\n",
       "    .dataframe thead th {\n",
       "        text-align: right;\n",
       "    }\n",
       "</style>\n",
       "<table border=\"1\" class=\"dataframe\">\n",
       "  <thead>\n",
       "    <tr style=\"text-align: right;\">\n",
       "      <th></th>\n",
       "      <th>id</th>\n",
       "      <th>title</th>\n",
       "      <th>email</th>\n",
       "      <th>birthday</th>\n",
       "      <th>city</th>\n",
       "      <th>country</th>\n",
       "      <th>magazin</th>\n",
       "      <th>newsletter</th>\n",
       "      <th>bonuspoints</th>\n",
       "      <th>created</th>\n",
       "      <th>invited_by_frontend_user_id</th>\n",
       "      <th>id</th>\n",
       "      <th>frontend_user_id</th>\n",
       "      <th>action_id</th>\n",
       "      <th>status</th>\n",
       "      <th>action_module_name</th>\n",
       "      <th>created</th>\n",
       "      <th>modified</th>\n",
       "    </tr>\n",
       "  </thead>\n",
       "  <tbody>\n",
       "    <tr>\n",
       "      <th>0</th>\n",
       "      <td>2</td>\n",
       "      <td>Mrs</td>\n",
       "      <td>user_65991@mail.com</td>\n",
       "      <td>1976-03-24</td>\n",
       "      <td>Hanover</td>\n",
       "      <td>DE</td>\n",
       "      <td>0</td>\n",
       "      <td>1</td>\n",
       "      <td>3295</td>\n",
       "      <td>2015-08-11 14:42:43</td>\n",
       "      <td>NaN</td>\n",
       "      <td>1</td>\n",
       "      <td>2</td>\n",
       "      <td>7</td>\n",
       "      <td>participate</td>\n",
       "      <td>Coupon</td>\n",
       "      <td>2015-08-12 13:53:53</td>\n",
       "      <td>0000-00-00 00:00:00</td>\n",
       "    </tr>\n",
       "    <tr>\n",
       "      <th>1</th>\n",
       "      <td>2</td>\n",
       "      <td>Mrs</td>\n",
       "      <td>user_65991@mail.com</td>\n",
       "      <td>1976-03-24</td>\n",
       "      <td>Hanover</td>\n",
       "      <td>DE</td>\n",
       "      <td>0</td>\n",
       "      <td>1</td>\n",
       "      <td>3295</td>\n",
       "      <td>2015-08-11 14:42:43</td>\n",
       "      <td>NaN</td>\n",
       "      <td>22</td>\n",
       "      <td>2</td>\n",
       "      <td>21</td>\n",
       "      <td>participate</td>\n",
       "      <td>Poll</td>\n",
       "      <td>2015-08-13 21:44:12</td>\n",
       "      <td>0000-00-00 00:00:00</td>\n",
       "    </tr>\n",
       "    <tr>\n",
       "      <th>2</th>\n",
       "      <td>2</td>\n",
       "      <td>Mrs</td>\n",
       "      <td>user_65991@mail.com</td>\n",
       "      <td>1976-03-24</td>\n",
       "      <td>Hanover</td>\n",
       "      <td>DE</td>\n",
       "      <td>0</td>\n",
       "      <td>1</td>\n",
       "      <td>3295</td>\n",
       "      <td>2015-08-11 14:42:43</td>\n",
       "      <td>NaN</td>\n",
       "      <td>23</td>\n",
       "      <td>2</td>\n",
       "      <td>11</td>\n",
       "      <td>participate</td>\n",
       "      <td>Coupon</td>\n",
       "      <td>2015-08-13 21:53:44</td>\n",
       "      <td>0000-00-00 00:00:00</td>\n",
       "    </tr>\n",
       "    <tr>\n",
       "      <th>3</th>\n",
       "      <td>2</td>\n",
       "      <td>Mrs</td>\n",
       "      <td>user_65991@mail.com</td>\n",
       "      <td>1976-03-24</td>\n",
       "      <td>Hanover</td>\n",
       "      <td>DE</td>\n",
       "      <td>0</td>\n",
       "      <td>1</td>\n",
       "      <td>3295</td>\n",
       "      <td>2015-08-11 14:42:43</td>\n",
       "      <td>NaN</td>\n",
       "      <td>24</td>\n",
       "      <td>2</td>\n",
       "      <td>12</td>\n",
       "      <td>participate</td>\n",
       "      <td>Coupon</td>\n",
       "      <td>2015-08-13 21:58:39</td>\n",
       "      <td>0000-00-00 00:00:00</td>\n",
       "    </tr>\n",
       "    <tr>\n",
       "      <th>4</th>\n",
       "      <td>2</td>\n",
       "      <td>Mrs</td>\n",
       "      <td>user_65991@mail.com</td>\n",
       "      <td>1976-03-24</td>\n",
       "      <td>Hanover</td>\n",
       "      <td>DE</td>\n",
       "      <td>0</td>\n",
       "      <td>1</td>\n",
       "      <td>3295</td>\n",
       "      <td>2015-08-11 14:42:43</td>\n",
       "      <td>NaN</td>\n",
       "      <td>187</td>\n",
       "      <td>2</td>\n",
       "      <td>38</td>\n",
       "      <td>participate</td>\n",
       "      <td>PhotoContest</td>\n",
       "      <td>2015-08-24 11:53:24</td>\n",
       "      <td>0000-00-00 00:00:00</td>\n",
       "    </tr>\n",
       "  </tbody>\n",
       "</table>\n",
       "</div>"
      ],
      "text/plain": [
       "   id title                email    birthday     city country  magazin  \\\n",
       "0   2   Mrs  user_65991@mail.com  1976-03-24  Hanover      DE        0   \n",
       "1   2   Mrs  user_65991@mail.com  1976-03-24  Hanover      DE        0   \n",
       "2   2   Mrs  user_65991@mail.com  1976-03-24  Hanover      DE        0   \n",
       "3   2   Mrs  user_65991@mail.com  1976-03-24  Hanover      DE        0   \n",
       "4   2   Mrs  user_65991@mail.com  1976-03-24  Hanover      DE        0   \n",
       "\n",
       "   newsletter  bonuspoints             created  invited_by_frontend_user_id  \\\n",
       "0           1         3295 2015-08-11 14:42:43                          NaN   \n",
       "1           1         3295 2015-08-11 14:42:43                          NaN   \n",
       "2           1         3295 2015-08-11 14:42:43                          NaN   \n",
       "3           1         3295 2015-08-11 14:42:43                          NaN   \n",
       "4           1         3295 2015-08-11 14:42:43                          NaN   \n",
       "\n",
       "    id  frontend_user_id  action_id       status action_module_name  \\\n",
       "0    1                 2          7  participate             Coupon   \n",
       "1   22                 2         21  participate               Poll   \n",
       "2   23                 2         11  participate             Coupon   \n",
       "3   24                 2         12  participate             Coupon   \n",
       "4  187                 2         38  participate       PhotoContest   \n",
       "\n",
       "              created             modified  \n",
       "0 2015-08-12 13:53:53  0000-00-00 00:00:00  \n",
       "1 2015-08-13 21:44:12  0000-00-00 00:00:00  \n",
       "2 2015-08-13 21:53:44  0000-00-00 00:00:00  \n",
       "3 2015-08-13 21:58:39  0000-00-00 00:00:00  \n",
       "4 2015-08-24 11:53:24  0000-00-00 00:00:00  "
      ]
     },
     "execution_count": 34,
     "metadata": {},
     "output_type": "execute_result"
    }
   ],
   "source": [
    "grouped.head()"
   ]
  },
  {
   "cell_type": "code",
   "execution_count": 35,
   "metadata": {},
   "outputs": [
    {
     "data": {
      "text/plain": [
       "array(['participate', 'won', 'incorrect answer',\n",
       "       'reviewed from non-tester', 'reviewed'], dtype=object)"
      ]
     },
     "execution_count": 35,
     "metadata": {},
     "output_type": "execute_result"
    }
   ],
   "source": [
    "grouped.status.unique()"
   ]
  },
  {
   "cell_type": "code",
   "execution_count": 36,
   "metadata": {},
   "outputs": [
    {
     "data": {
      "text/plain": [
       "array(['Coupon', 'Poll', 'PhotoContest', 'Lottery', 'ProductTrial',\n",
       "       'Quiz', 'Couponing External', 'TextContest', 'Survey',\n",
       "       'Personality test', 'Produktselection ', 'VideoContest'],\n",
       "      dtype=object)"
      ]
     },
     "execution_count": 36,
     "metadata": {},
     "output_type": "execute_result"
    }
   ],
   "source": [
    "grouped.action_module_name.unique()"
   ]
  },
  {
   "cell_type": "code",
   "execution_count": 37,
   "metadata": {},
   "outputs": [],
   "source": [
    "status_name = grouped.iloc[:, [14,15]].values\n",
    "bonuspoints = grouped.iloc[:, 8].values"
   ]
  },
  {
   "cell_type": "code",
   "execution_count": 38,
   "metadata": {},
   "outputs": [],
   "source": [
    "from sklearn.preprocessing import LabelEncoder\n",
    "enc = LabelEncoder()"
   ]
  },
  {
   "cell_type": "code",
   "execution_count": 39,
   "metadata": {},
   "outputs": [
    {
     "data": {
      "text/plain": [
       "array([['participate', 'Coupon'],\n",
       "       ['participate', 'Poll'],\n",
       "       ['participate', 'Coupon'],\n",
       "       ...,\n",
       "       ['participate', 'Personality test'],\n",
       "       ['participate', 'Coupon'],\n",
       "       ['participate', 'Quiz']], dtype=object)"
      ]
     },
     "execution_count": 39,
     "metadata": {},
     "output_type": "execute_result"
    }
   ],
   "source": [
    "status_name"
   ]
  },
  {
   "cell_type": "code",
   "execution_count": 40,
   "metadata": {},
   "outputs": [],
   "source": [
    "status_name[:, 0] = enc.fit_transform(status_name[:,0])\n",
    "status_name[:, 1] = enc.fit_transform(status_name[:,1])"
   ]
  },
  {
   "cell_type": "code",
   "execution_count": 41,
   "metadata": {},
   "outputs": [],
   "source": [
    "X_train, X_test, y_train, y_test = train_test_split(status_name,bonuspoints,test_size=0.3,random_state=42)"
   ]
  },
  {
   "cell_type": "code",
   "execution_count": 42,
   "metadata": {},
   "outputs": [
    {
     "name": "stdout",
     "output_type": "stream",
     "text": [
      "Linear Regression: (0.012224787921764624) (1568.9674538046074)\n",
      "Ridge Regression: (0.012224786081380445) (1568.9674648610712)\n",
      "Lasso Regression: (0.012217903049823176) (1569.005964264128)\n",
      "ElasticNet: (0.010735763188678416) (1570.8031731205408)\n",
      "Decision Tree Regressor: (0.056055695270397665) (1527.4471504585586)\n",
      "Extra Tree Regressor: (0.056055695270397665) (1527.4471504585586)\n",
      "RandomForestRegressor: (0.05606158716771159) (1527.295515997058)\n"
     ]
    }
   ],
   "source": [
    "for name, model in models:\n",
    "    # Fit the model\n",
    "    model.fit(X_train, y_train)\n",
    "    \n",
    "    predictions = model.predict(X_test)\n",
    "    \n",
    "    # Evaluate the model\n",
    "    score = explained_variance_score(y_test, predictions)\n",
    "    mae = mean_absolute_error(predictions, y_test)\n",
    "    \n",
    "    msg = \"{}: ({}) ({})\".format(name, score, mae)\n",
    "    print(msg)"
   ]
  },
  {
   "cell_type": "markdown",
   "metadata": {},
   "source": [
    "Tried to predict bonus points from status and action."
   ]
  },
  {
   "cell_type": "code",
   "execution_count": null,
   "metadata": {},
   "outputs": [],
   "source": []
  }
 ],
 "metadata": {
  "kernelspec": {
   "display_name": "Python 3",
   "language": "python",
   "name": "python3"
  },
  "language_info": {
   "codemirror_mode": {
    "name": "ipython",
    "version": 3
   },
   "file_extension": ".py",
   "mimetype": "text/x-python",
   "name": "python",
   "nbconvert_exporter": "python",
   "pygments_lexer": "ipython3",
   "version": "3.6.4"
  }
 },
 "nbformat": 4,
 "nbformat_minor": 2
}
