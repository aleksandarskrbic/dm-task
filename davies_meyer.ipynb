{
 "cells": [
  {
   "cell_type": "code",
   "execution_count": 1,
   "metadata": {},
   "outputs": [],
   "source": [
    "%matplotlib inline"
   ]
  },
  {
   "cell_type": "code",
   "execution_count": 1,
   "metadata": {},
   "outputs": [],
   "source": [
    "import pymysql\n",
    "import pandas as pd\n",
    "import numpy as np\n",
    "import matplotlib.pyplot as plt\n",
    "import datetime as DT\n",
    "\n",
    "conn = pymysql.connect(host='localhost',\n",
    "                       user='test_user',\n",
    "                       password='test_password',\n",
    "                       db ='daviesDB')"
   ]
  },
  {
   "cell_type": "code",
   "execution_count": 2,
   "metadata": {},
   "outputs": [],
   "source": [
    "frontend_users_df = pd.read_sql(\n",
    "                        'SELECT * FROM frontend_users', conn)"
   ]
  },
  {
   "cell_type": "code",
   "execution_count": 3,
   "metadata": {},
   "outputs": [
    {
     "data": {
      "text/html": [
       "<div>\n",
       "<style scoped>\n",
       "    .dataframe tbody tr th:only-of-type {\n",
       "        vertical-align: middle;\n",
       "    }\n",
       "\n",
       "    .dataframe tbody tr th {\n",
       "        vertical-align: top;\n",
       "    }\n",
       "\n",
       "    .dataframe thead th {\n",
       "        text-align: right;\n",
       "    }\n",
       "</style>\n",
       "<table border=\"1\" class=\"dataframe\">\n",
       "  <thead>\n",
       "    <tr style=\"text-align: right;\">\n",
       "      <th></th>\n",
       "      <th>id</th>\n",
       "      <th>title</th>\n",
       "      <th>email</th>\n",
       "      <th>birthday</th>\n",
       "      <th>city</th>\n",
       "      <th>country</th>\n",
       "      <th>magazin</th>\n",
       "      <th>newsletter</th>\n",
       "      <th>bonuspoints</th>\n",
       "      <th>created</th>\n",
       "      <th>invited_by_frontend_user_id</th>\n",
       "    </tr>\n",
       "  </thead>\n",
       "  <tbody>\n",
       "    <tr>\n",
       "      <th>0</th>\n",
       "      <td>2</td>\n",
       "      <td>Mrs</td>\n",
       "      <td>user_65991@mail.com</td>\n",
       "      <td>1976-03-24</td>\n",
       "      <td>Hanover</td>\n",
       "      <td>DE</td>\n",
       "      <td>0</td>\n",
       "      <td>1</td>\n",
       "      <td>3295</td>\n",
       "      <td>2015-08-11 14:42:43</td>\n",
       "      <td>NaN</td>\n",
       "    </tr>\n",
       "    <tr>\n",
       "      <th>1</th>\n",
       "      <td>4</td>\n",
       "      <td>Mr</td>\n",
       "      <td>user_36039@gmail.com</td>\n",
       "      <td>1975-07-05</td>\n",
       "      <td>Dresden</td>\n",
       "      <td>DE</td>\n",
       "      <td>0</td>\n",
       "      <td>1</td>\n",
       "      <td>500</td>\n",
       "      <td>2015-08-12 09:42:15</td>\n",
       "      <td>NaN</td>\n",
       "    </tr>\n",
       "    <tr>\n",
       "      <th>2</th>\n",
       "      <td>5</td>\n",
       "      <td>Mrs</td>\n",
       "      <td>user_90819@mail.com</td>\n",
       "      <td>1986-03-07</td>\n",
       "      <td>Bielefeld</td>\n",
       "      <td>DE</td>\n",
       "      <td>0</td>\n",
       "      <td>1</td>\n",
       "      <td>1100</td>\n",
       "      <td>2015-08-12 11:02:26</td>\n",
       "      <td>NaN</td>\n",
       "    </tr>\n",
       "    <tr>\n",
       "      <th>3</th>\n",
       "      <td>6</td>\n",
       "      <td>Mrs</td>\n",
       "      <td>user_1227@yahoo.com</td>\n",
       "      <td>1992-04-02</td>\n",
       "      <td>Neuss</td>\n",
       "      <td>DE</td>\n",
       "      <td>0</td>\n",
       "      <td>1</td>\n",
       "      <td>650</td>\n",
       "      <td>2015-08-12 11:11:07</td>\n",
       "      <td>NaN</td>\n",
       "    </tr>\n",
       "    <tr>\n",
       "      <th>4</th>\n",
       "      <td>7</td>\n",
       "      <td>Mrs</td>\n",
       "      <td>user_5940@yahoo.com</td>\n",
       "      <td>1984-09-17</td>\n",
       "      <td>Herne</td>\n",
       "      <td>DE</td>\n",
       "      <td>0</td>\n",
       "      <td>0</td>\n",
       "      <td>1770</td>\n",
       "      <td>2015-08-12 14:27:41</td>\n",
       "      <td>NaN</td>\n",
       "    </tr>\n",
       "  </tbody>\n",
       "</table>\n",
       "</div>"
      ],
      "text/plain": [
       "   id title                 email    birthday       city country  magazin  \\\n",
       "0   2   Mrs   user_65991@mail.com  1976-03-24    Hanover      DE        0   \n",
       "1   4    Mr  user_36039@gmail.com  1975-07-05    Dresden      DE        0   \n",
       "2   5   Mrs   user_90819@mail.com  1986-03-07  Bielefeld      DE        0   \n",
       "3   6   Mrs   user_1227@yahoo.com  1992-04-02      Neuss      DE        0   \n",
       "4   7   Mrs   user_5940@yahoo.com  1984-09-17      Herne      DE        0   \n",
       "\n",
       "   newsletter  bonuspoints             created  invited_by_frontend_user_id  \n",
       "0           1         3295 2015-08-11 14:42:43                          NaN  \n",
       "1           1          500 2015-08-12 09:42:15                          NaN  \n",
       "2           1         1100 2015-08-12 11:02:26                          NaN  \n",
       "3           1          650 2015-08-12 11:11:07                          NaN  \n",
       "4           0         1770 2015-08-12 14:27:41                          NaN  "
      ]
     },
     "execution_count": 3,
     "metadata": {},
     "output_type": "execute_result"
    }
   ],
   "source": [
    "frontend_users_df.head()"
   ]
  },
  {
   "cell_type": "code",
   "execution_count": 4,
   "metadata": {},
   "outputs": [],
   "source": [
    "frontend_users_df['birthday'] = pd.to_datetime(frontend_users_df['birthday'], errors = 'coerce')"
   ]
  },
  {
   "cell_type": "markdown",
   "metadata": {},
   "source": [
    "Converting DoB to Age"
   ]
  },
  {
   "cell_type": "code",
   "execution_count": 5,
   "metadata": {},
   "outputs": [
    {
     "data": {
      "text/html": [
       "<div>\n",
       "<style scoped>\n",
       "    .dataframe tbody tr th:only-of-type {\n",
       "        vertical-align: middle;\n",
       "    }\n",
       "\n",
       "    .dataframe tbody tr th {\n",
       "        vertical-align: top;\n",
       "    }\n",
       "\n",
       "    .dataframe thead th {\n",
       "        text-align: right;\n",
       "    }\n",
       "</style>\n",
       "<table border=\"1\" class=\"dataframe\">\n",
       "  <thead>\n",
       "    <tr style=\"text-align: right;\">\n",
       "      <th></th>\n",
       "      <th>id</th>\n",
       "      <th>title</th>\n",
       "      <th>email</th>\n",
       "      <th>age</th>\n",
       "      <th>city</th>\n",
       "      <th>country</th>\n",
       "      <th>magazin</th>\n",
       "      <th>newsletter</th>\n",
       "      <th>bonuspoints</th>\n",
       "      <th>created</th>\n",
       "      <th>invited_by_frontend_user_id</th>\n",
       "    </tr>\n",
       "  </thead>\n",
       "  <tbody>\n",
       "    <tr>\n",
       "      <th>0</th>\n",
       "      <td>2</td>\n",
       "      <td>Mrs</td>\n",
       "      <td>user_65991@mail.com</td>\n",
       "      <td>42.0</td>\n",
       "      <td>Hanover</td>\n",
       "      <td>DE</td>\n",
       "      <td>0</td>\n",
       "      <td>1</td>\n",
       "      <td>3295</td>\n",
       "      <td>2015-08-11 14:42:43</td>\n",
       "      <td>NaN</td>\n",
       "    </tr>\n",
       "    <tr>\n",
       "      <th>1</th>\n",
       "      <td>4</td>\n",
       "      <td>Mr</td>\n",
       "      <td>user_36039@gmail.com</td>\n",
       "      <td>42.0</td>\n",
       "      <td>Dresden</td>\n",
       "      <td>DE</td>\n",
       "      <td>0</td>\n",
       "      <td>1</td>\n",
       "      <td>500</td>\n",
       "      <td>2015-08-12 09:42:15</td>\n",
       "      <td>NaN</td>\n",
       "    </tr>\n",
       "    <tr>\n",
       "      <th>2</th>\n",
       "      <td>5</td>\n",
       "      <td>Mrs</td>\n",
       "      <td>user_90819@mail.com</td>\n",
       "      <td>32.0</td>\n",
       "      <td>Bielefeld</td>\n",
       "      <td>DE</td>\n",
       "      <td>0</td>\n",
       "      <td>1</td>\n",
       "      <td>1100</td>\n",
       "      <td>2015-08-12 11:02:26</td>\n",
       "      <td>NaN</td>\n",
       "    </tr>\n",
       "    <tr>\n",
       "      <th>3</th>\n",
       "      <td>6</td>\n",
       "      <td>Mrs</td>\n",
       "      <td>user_1227@yahoo.com</td>\n",
       "      <td>26.0</td>\n",
       "      <td>Neuss</td>\n",
       "      <td>DE</td>\n",
       "      <td>0</td>\n",
       "      <td>1</td>\n",
       "      <td>650</td>\n",
       "      <td>2015-08-12 11:11:07</td>\n",
       "      <td>NaN</td>\n",
       "    </tr>\n",
       "    <tr>\n",
       "      <th>4</th>\n",
       "      <td>7</td>\n",
       "      <td>Mrs</td>\n",
       "      <td>user_5940@yahoo.com</td>\n",
       "      <td>33.0</td>\n",
       "      <td>Herne</td>\n",
       "      <td>DE</td>\n",
       "      <td>0</td>\n",
       "      <td>0</td>\n",
       "      <td>1770</td>\n",
       "      <td>2015-08-12 14:27:41</td>\n",
       "      <td>NaN</td>\n",
       "    </tr>\n",
       "  </tbody>\n",
       "</table>\n",
       "</div>"
      ],
      "text/plain": [
       "   id title                 email   age       city country  magazin  \\\n",
       "0   2   Mrs   user_65991@mail.com  42.0    Hanover      DE        0   \n",
       "1   4    Mr  user_36039@gmail.com  42.0    Dresden      DE        0   \n",
       "2   5   Mrs   user_90819@mail.com  32.0  Bielefeld      DE        0   \n",
       "3   6   Mrs   user_1227@yahoo.com  26.0      Neuss      DE        0   \n",
       "4   7   Mrs   user_5940@yahoo.com  33.0      Herne      DE        0   \n",
       "\n",
       "   newsletter  bonuspoints             created  invited_by_frontend_user_id  \n",
       "0           1         3295 2015-08-11 14:42:43                          NaN  \n",
       "1           1          500 2015-08-12 09:42:15                          NaN  \n",
       "2           1         1100 2015-08-12 11:02:26                          NaN  \n",
       "3           1          650 2015-08-12 11:11:07                          NaN  \n",
       "4           0         1770 2015-08-12 14:27:41                          NaN  "
      ]
     },
     "execution_count": 5,
     "metadata": {},
     "output_type": "execute_result"
    }
   ],
   "source": [
    "now = pd.Timestamp(DT.datetime.now())\n",
    "frontend_users_df['birthday'] = pd.to_datetime(frontend_users_df['birthday'], format = '%m%d%y')\n",
    "frontend_users_df['birthday'] = frontend_users_df['birthday'].where(frontend_users_df['birthday'] < now, frontend_users_df['birthday'] -  np.timedelta64(100, 'Y'))\n",
    "frontend_users_df['birthday'] = (now - frontend_users_df['birthday']).astype('<m8[Y]')\n",
    "frontend_users_df.rename(columns={'birthday':'age'}, inplace=True)\n",
    "frontend_users_df.head()"
   ]
  },
  {
   "cell_type": "code",
   "execution_count": 6,
   "metadata": {},
   "outputs": [
    {
     "data": {
      "text/plain": [
       "array(['Mrs', 'Mr'], dtype=object)"
      ]
     },
     "execution_count": 6,
     "metadata": {},
     "output_type": "execute_result"
    }
   ],
   "source": [
    "frontend_users_df['title'].unique()"
   ]
  },
  {
   "cell_type": "markdown",
   "metadata": {},
   "source": [
    "Encoding categorical variables - Mrs -> 0, Mr -> 1"
   ]
  },
  {
   "cell_type": "code",
   "execution_count": 7,
   "metadata": {},
   "outputs": [],
   "source": [
    "frontend_users_df.title.replace(('Mrs', 'Mr'), (0, 1), inplace=True)"
   ]
  },
  {
   "cell_type": "code",
   "execution_count": 8,
   "metadata": {},
   "outputs": [
    {
     "data": {
      "text/html": [
       "<div>\n",
       "<style scoped>\n",
       "    .dataframe tbody tr th:only-of-type {\n",
       "        vertical-align: middle;\n",
       "    }\n",
       "\n",
       "    .dataframe tbody tr th {\n",
       "        vertical-align: top;\n",
       "    }\n",
       "\n",
       "    .dataframe thead th {\n",
       "        text-align: right;\n",
       "    }\n",
       "</style>\n",
       "<table border=\"1\" class=\"dataframe\">\n",
       "  <thead>\n",
       "    <tr style=\"text-align: right;\">\n",
       "      <th></th>\n",
       "      <th>id</th>\n",
       "      <th>title</th>\n",
       "      <th>email</th>\n",
       "      <th>age</th>\n",
       "      <th>city</th>\n",
       "      <th>country</th>\n",
       "      <th>magazin</th>\n",
       "      <th>newsletter</th>\n",
       "      <th>bonuspoints</th>\n",
       "      <th>created</th>\n",
       "      <th>invited_by_frontend_user_id</th>\n",
       "    </tr>\n",
       "  </thead>\n",
       "  <tbody>\n",
       "    <tr>\n",
       "      <th>0</th>\n",
       "      <td>2</td>\n",
       "      <td>0</td>\n",
       "      <td>user_65991@mail.com</td>\n",
       "      <td>42.0</td>\n",
       "      <td>Hanover</td>\n",
       "      <td>DE</td>\n",
       "      <td>0</td>\n",
       "      <td>1</td>\n",
       "      <td>3295</td>\n",
       "      <td>2015-08-11 14:42:43</td>\n",
       "      <td>NaN</td>\n",
       "    </tr>\n",
       "    <tr>\n",
       "      <th>1</th>\n",
       "      <td>4</td>\n",
       "      <td>1</td>\n",
       "      <td>user_36039@gmail.com</td>\n",
       "      <td>42.0</td>\n",
       "      <td>Dresden</td>\n",
       "      <td>DE</td>\n",
       "      <td>0</td>\n",
       "      <td>1</td>\n",
       "      <td>500</td>\n",
       "      <td>2015-08-12 09:42:15</td>\n",
       "      <td>NaN</td>\n",
       "    </tr>\n",
       "    <tr>\n",
       "      <th>2</th>\n",
       "      <td>5</td>\n",
       "      <td>0</td>\n",
       "      <td>user_90819@mail.com</td>\n",
       "      <td>32.0</td>\n",
       "      <td>Bielefeld</td>\n",
       "      <td>DE</td>\n",
       "      <td>0</td>\n",
       "      <td>1</td>\n",
       "      <td>1100</td>\n",
       "      <td>2015-08-12 11:02:26</td>\n",
       "      <td>NaN</td>\n",
       "    </tr>\n",
       "    <tr>\n",
       "      <th>3</th>\n",
       "      <td>6</td>\n",
       "      <td>0</td>\n",
       "      <td>user_1227@yahoo.com</td>\n",
       "      <td>26.0</td>\n",
       "      <td>Neuss</td>\n",
       "      <td>DE</td>\n",
       "      <td>0</td>\n",
       "      <td>1</td>\n",
       "      <td>650</td>\n",
       "      <td>2015-08-12 11:11:07</td>\n",
       "      <td>NaN</td>\n",
       "    </tr>\n",
       "    <tr>\n",
       "      <th>4</th>\n",
       "      <td>7</td>\n",
       "      <td>0</td>\n",
       "      <td>user_5940@yahoo.com</td>\n",
       "      <td>33.0</td>\n",
       "      <td>Herne</td>\n",
       "      <td>DE</td>\n",
       "      <td>0</td>\n",
       "      <td>0</td>\n",
       "      <td>1770</td>\n",
       "      <td>2015-08-12 14:27:41</td>\n",
       "      <td>NaN</td>\n",
       "    </tr>\n",
       "  </tbody>\n",
       "</table>\n",
       "</div>"
      ],
      "text/plain": [
       "   id  title                 email   age       city country  magazin  \\\n",
       "0   2      0   user_65991@mail.com  42.0    Hanover      DE        0   \n",
       "1   4      1  user_36039@gmail.com  42.0    Dresden      DE        0   \n",
       "2   5      0   user_90819@mail.com  32.0  Bielefeld      DE        0   \n",
       "3   6      0   user_1227@yahoo.com  26.0      Neuss      DE        0   \n",
       "4   7      0   user_5940@yahoo.com  33.0      Herne      DE        0   \n",
       "\n",
       "   newsletter  bonuspoints             created  invited_by_frontend_user_id  \n",
       "0           1         3295 2015-08-11 14:42:43                          NaN  \n",
       "1           1          500 2015-08-12 09:42:15                          NaN  \n",
       "2           1         1100 2015-08-12 11:02:26                          NaN  \n",
       "3           1          650 2015-08-12 11:11:07                          NaN  \n",
       "4           0         1770 2015-08-12 14:27:41                          NaN  "
      ]
     },
     "execution_count": 8,
     "metadata": {},
     "output_type": "execute_result"
    }
   ],
   "source": [
    "frontend_users_df.head()"
   ]
  },
  {
   "cell_type": "markdown",
   "metadata": {},
   "source": [
    "Checking is thete any null values"
   ]
  },
  {
   "cell_type": "code",
   "execution_count": 9,
   "metadata": {},
   "outputs": [
    {
     "data": {
      "text/plain": [
       "id                                  0\n",
       "title                               0\n",
       "email                               0\n",
       "age                                 1\n",
       "city                                0\n",
       "country                             0\n",
       "magazin                             0\n",
       "newsletter                          0\n",
       "bonuspoints                         0\n",
       "created                             0\n",
       "invited_by_frontend_user_id    117303\n",
       "dtype: int64"
      ]
     },
     "execution_count": 9,
     "metadata": {},
     "output_type": "execute_result"
    }
   ],
   "source": [
    "frontend_users_df.isnull().sum()"
   ]
  },
  {
   "cell_type": "code",
   "execution_count": 10,
   "metadata": {},
   "outputs": [],
   "source": [
    "frontend_users_df['age'] = frontend_users_df['age'].fillna(frontend_users_df['age'].mean())"
   ]
  },
  {
   "cell_type": "code",
   "execution_count": 11,
   "metadata": {},
   "outputs": [],
   "source": [
    "correlation_matrix = frontend_users_df.corr(method='pearson')"
   ]
  },
  {
   "cell_type": "markdown",
   "metadata": {},
   "source": [
    "\n",
    "From matrix of correlations, we see that there is no strong correlaton between any of variables."
   ]
  },
  {
   "cell_type": "code",
   "execution_count": 13,
   "metadata": {},
   "outputs": [
    {
     "data": {
      "text/html": [
       "<div>\n",
       "<style scoped>\n",
       "    .dataframe tbody tr th:only-of-type {\n",
       "        vertical-align: middle;\n",
       "    }\n",
       "\n",
       "    .dataframe tbody tr th {\n",
       "        vertical-align: top;\n",
       "    }\n",
       "\n",
       "    .dataframe thead th {\n",
       "        text-align: right;\n",
       "    }\n",
       "</style>\n",
       "<table border=\"1\" class=\"dataframe\">\n",
       "  <thead>\n",
       "    <tr style=\"text-align: right;\">\n",
       "      <th></th>\n",
       "      <th>id</th>\n",
       "      <th>title</th>\n",
       "      <th>age</th>\n",
       "      <th>magazin</th>\n",
       "      <th>newsletter</th>\n",
       "      <th>bonuspoints</th>\n",
       "      <th>invited_by_frontend_user_id</th>\n",
       "    </tr>\n",
       "  </thead>\n",
       "  <tbody>\n",
       "    <tr>\n",
       "      <th>id</th>\n",
       "      <td>1.000000</td>\n",
       "      <td>0.048877</td>\n",
       "      <td>-0.042993</td>\n",
       "      <td>NaN</td>\n",
       "      <td>-0.041337</td>\n",
       "      <td>-0.308726</td>\n",
       "      <td>0.456466</td>\n",
       "    </tr>\n",
       "    <tr>\n",
       "      <th>title</th>\n",
       "      <td>0.048877</td>\n",
       "      <td>1.000000</td>\n",
       "      <td>0.120665</td>\n",
       "      <td>NaN</td>\n",
       "      <td>-0.043219</td>\n",
       "      <td>-0.060314</td>\n",
       "      <td>0.079163</td>\n",
       "    </tr>\n",
       "    <tr>\n",
       "      <th>age</th>\n",
       "      <td>-0.042993</td>\n",
       "      <td>0.120665</td>\n",
       "      <td>1.000000</td>\n",
       "      <td>NaN</td>\n",
       "      <td>0.197922</td>\n",
       "      <td>0.092870</td>\n",
       "      <td>-0.033227</td>\n",
       "    </tr>\n",
       "    <tr>\n",
       "      <th>magazin</th>\n",
       "      <td>NaN</td>\n",
       "      <td>NaN</td>\n",
       "      <td>NaN</td>\n",
       "      <td>NaN</td>\n",
       "      <td>NaN</td>\n",
       "      <td>NaN</td>\n",
       "      <td>NaN</td>\n",
       "    </tr>\n",
       "    <tr>\n",
       "      <th>newsletter</th>\n",
       "      <td>-0.041337</td>\n",
       "      <td>-0.043219</td>\n",
       "      <td>0.197922</td>\n",
       "      <td>NaN</td>\n",
       "      <td>1.000000</td>\n",
       "      <td>0.269926</td>\n",
       "      <td>0.040959</td>\n",
       "    </tr>\n",
       "    <tr>\n",
       "      <th>bonuspoints</th>\n",
       "      <td>-0.308726</td>\n",
       "      <td>-0.060314</td>\n",
       "      <td>0.092870</td>\n",
       "      <td>NaN</td>\n",
       "      <td>0.269926</td>\n",
       "      <td>1.000000</td>\n",
       "      <td>-0.147839</td>\n",
       "    </tr>\n",
       "    <tr>\n",
       "      <th>invited_by_frontend_user_id</th>\n",
       "      <td>0.456466</td>\n",
       "      <td>0.079163</td>\n",
       "      <td>-0.033227</td>\n",
       "      <td>NaN</td>\n",
       "      <td>0.040959</td>\n",
       "      <td>-0.147839</td>\n",
       "      <td>1.000000</td>\n",
       "    </tr>\n",
       "  </tbody>\n",
       "</table>\n",
       "</div>"
      ],
      "text/plain": [
       "                                   id     title       age  magazin  \\\n",
       "id                           1.000000  0.048877 -0.042993      NaN   \n",
       "title                        0.048877  1.000000  0.120665      NaN   \n",
       "age                         -0.042993  0.120665  1.000000      NaN   \n",
       "magazin                           NaN       NaN       NaN      NaN   \n",
       "newsletter                  -0.041337 -0.043219  0.197922      NaN   \n",
       "bonuspoints                 -0.308726 -0.060314  0.092870      NaN   \n",
       "invited_by_frontend_user_id  0.456466  0.079163 -0.033227      NaN   \n",
       "\n",
       "                             newsletter  bonuspoints  \\\n",
       "id                            -0.041337    -0.308726   \n",
       "title                         -0.043219    -0.060314   \n",
       "age                            0.197922     0.092870   \n",
       "magazin                             NaN          NaN   \n",
       "newsletter                     1.000000     0.269926   \n",
       "bonuspoints                    0.269926     1.000000   \n",
       "invited_by_frontend_user_id    0.040959    -0.147839   \n",
       "\n",
       "                             invited_by_frontend_user_id  \n",
       "id                                              0.456466  \n",
       "title                                           0.079163  \n",
       "age                                            -0.033227  \n",
       "magazin                                              NaN  \n",
       "newsletter                                      0.040959  \n",
       "bonuspoints                                    -0.147839  \n",
       "invited_by_frontend_user_id                     1.000000  "
      ]
     },
     "execution_count": 13,
     "metadata": {},
     "output_type": "execute_result"
    }
   ],
   "source": [
    "correlation_matrix"
   ]
  },
  {
   "cell_type": "code",
   "execution_count": 12,
   "metadata": {},
   "outputs": [
    {
     "data": {
      "text/html": [
       "<div>\n",
       "<style scoped>\n",
       "    .dataframe tbody tr th:only-of-type {\n",
       "        vertical-align: middle;\n",
       "    }\n",
       "\n",
       "    .dataframe tbody tr th {\n",
       "        vertical-align: top;\n",
       "    }\n",
       "\n",
       "    .dataframe thead th {\n",
       "        text-align: right;\n",
       "    }\n",
       "</style>\n",
       "<table border=\"1\" class=\"dataframe\">\n",
       "  <thead>\n",
       "    <tr style=\"text-align: right;\">\n",
       "      <th></th>\n",
       "      <th>id</th>\n",
       "      <th>title</th>\n",
       "      <th>age</th>\n",
       "      <th>magazin</th>\n",
       "      <th>newsletter</th>\n",
       "      <th>bonuspoints</th>\n",
       "      <th>invited_by_frontend_user_id</th>\n",
       "    </tr>\n",
       "  </thead>\n",
       "  <tbody>\n",
       "    <tr>\n",
       "      <th>count</th>\n",
       "      <td>119852.000000</td>\n",
       "      <td>119852.000000</td>\n",
       "      <td>119852.000000</td>\n",
       "      <td>119852.0</td>\n",
       "      <td>119852.000000</td>\n",
       "      <td>119852.000000</td>\n",
       "      <td>2549.000000</td>\n",
       "    </tr>\n",
       "    <tr>\n",
       "      <th>mean</th>\n",
       "      <td>65944.527150</td>\n",
       "      <td>0.082644</td>\n",
       "      <td>37.607746</td>\n",
       "      <td>0.0</td>\n",
       "      <td>0.541710</td>\n",
       "      <td>665.850132</td>\n",
       "      <td>27697.896822</td>\n",
       "    </tr>\n",
       "    <tr>\n",
       "      <th>std</th>\n",
       "      <td>38918.732454</td>\n",
       "      <td>0.275344</td>\n",
       "      <td>12.502064</td>\n",
       "      <td>0.0</td>\n",
       "      <td>0.498259</td>\n",
       "      <td>944.300682</td>\n",
       "      <td>24107.862140</td>\n",
       "    </tr>\n",
       "    <tr>\n",
       "      <th>min</th>\n",
       "      <td>2.000000</td>\n",
       "      <td>0.000000</td>\n",
       "      <td>18.000000</td>\n",
       "      <td>0.0</td>\n",
       "      <td>0.000000</td>\n",
       "      <td>-2210.000000</td>\n",
       "      <td>2.000000</td>\n",
       "    </tr>\n",
       "    <tr>\n",
       "      <th>25%</th>\n",
       "      <td>31911.750000</td>\n",
       "      <td>0.000000</td>\n",
       "      <td>28.000000</td>\n",
       "      <td>0.0</td>\n",
       "      <td>0.000000</td>\n",
       "      <td>200.000000</td>\n",
       "      <td>22148.000000</td>\n",
       "    </tr>\n",
       "    <tr>\n",
       "      <th>50%</th>\n",
       "      <td>65711.500000</td>\n",
       "      <td>0.000000</td>\n",
       "      <td>35.000000</td>\n",
       "      <td>0.0</td>\n",
       "      <td>1.000000</td>\n",
       "      <td>350.000000</td>\n",
       "      <td>22148.000000</td>\n",
       "    </tr>\n",
       "    <tr>\n",
       "      <th>75%</th>\n",
       "      <td>99662.250000</td>\n",
       "      <td>0.000000</td>\n",
       "      <td>46.000000</td>\n",
       "      <td>0.0</td>\n",
       "      <td>1.000000</td>\n",
       "      <td>700.000000</td>\n",
       "      <td>22148.000000</td>\n",
       "    </tr>\n",
       "    <tr>\n",
       "      <th>max</th>\n",
       "      <td>133816.000000</td>\n",
       "      <td>1.000000</td>\n",
       "      <td>117.000000</td>\n",
       "      <td>0.0</td>\n",
       "      <td>1.000000</td>\n",
       "      <td>12490.000000</td>\n",
       "      <td>130274.000000</td>\n",
       "    </tr>\n",
       "  </tbody>\n",
       "</table>\n",
       "</div>"
      ],
      "text/plain": [
       "                  id          title            age   magazin     newsletter  \\\n",
       "count  119852.000000  119852.000000  119852.000000  119852.0  119852.000000   \n",
       "mean    65944.527150       0.082644      37.607746       0.0       0.541710   \n",
       "std     38918.732454       0.275344      12.502064       0.0       0.498259   \n",
       "min         2.000000       0.000000      18.000000       0.0       0.000000   \n",
       "25%     31911.750000       0.000000      28.000000       0.0       0.000000   \n",
       "50%     65711.500000       0.000000      35.000000       0.0       1.000000   \n",
       "75%     99662.250000       0.000000      46.000000       0.0       1.000000   \n",
       "max    133816.000000       1.000000     117.000000       0.0       1.000000   \n",
       "\n",
       "         bonuspoints  invited_by_frontend_user_id  \n",
       "count  119852.000000                  2549.000000  \n",
       "mean      665.850132                 27697.896822  \n",
       "std       944.300682                 24107.862140  \n",
       "min     -2210.000000                     2.000000  \n",
       "25%       200.000000                 22148.000000  \n",
       "50%       350.000000                 22148.000000  \n",
       "75%       700.000000                 22148.000000  \n",
       "max     12490.000000                130274.000000  "
      ]
     },
     "execution_count": 12,
     "metadata": {},
     "output_type": "execute_result"
    }
   ],
   "source": [
    "frontend_users_df.describe()"
   ]
  },
  {
   "cell_type": "markdown",
   "metadata": {},
   "source": [
    "From histogram bellow, we see that there is a lot more women than men"
   ]
  },
  {
   "cell_type": "code",
   "execution_count": 13,
   "metadata": {},
   "outputs": [
    {
     "name": "stdout",
     "output_type": "stream",
     "text": [
      "Title Histogram\n",
      "Men count: 9905\n",
      "Woman count: 109947\n"
     ]
    },
    {
     "data": {
      "image/png": "[encoded data removed]",
      "text/plain": [
       "<matplotlib.figure.Figure at 0x7f5ea2f27860>"
      ]
     },
     "metadata": {},
     "output_type": "display_data"
    }
   ],
   "source": [
    "frontend_users_df['title'].hist()\n",
    "men_count = frontend_users_df['title'].sum()\n",
    "women_count = frontend_users_df['title'].shape[0] - men_count\n",
    "print('Title Histogram')\n",
    "print('Men count: {}'.format(men_count))\n",
    "print('Woman count: {}'.format(women_count))"
   ]
  },
  {
   "cell_type": "markdown",
   "metadata": {},
   "source": [
    "From Age Histogram we see, that most of the users are something between 30 and 38 years old."
   ]
  },
  {
   "cell_type": "code",
   "execution_count": 14,
   "metadata": {},
   "outputs": [
    {
     "name": "stdout",
     "output_type": "stream",
     "text": [
      "Age Histogram\n",
      "Youngest user is 18 years old\n",
      "Oldest user is 117 years old\n"
     ]
    },
    {
     "data": {
      "image/png": "[encoded data removed]",
      "text/plain": [
       "<matplotlib.figure.Figure at 0x7f5ea2f5bac8>"
      ]
     },
     "metadata": {},
     "output_type": "display_data"
    }
   ],
   "source": [
    "frontend_users_df['age'].hist()\n",
    "print('Age Histogram')\n",
    "print(\"Youngest user is {} years old\".format(int(frontend_users_df['age'].min())))\n",
    "print(\"Oldest user is {} years old\".format(int(frontend_users_df['age'].max())))"
   ]
  },
  {
   "cell_type": "markdown",
   "metadata": {},
   "source": [
    "From Magazin Histogram we see that there is no user subsribed to magazine"
   ]
  },
  {
   "cell_type": "code",
   "execution_count": 15,
   "metadata": {},
   "outputs": [
    {
     "name": "stdout",
     "output_type": "stream",
     "text": [
      "Magazin Histogram\n"
     ]
    },
    {
     "data": {
      "image/png": "[encoded data removed]",
      "text/plain": [
       "<matplotlib.figure.Figure at 0x7f5ea2c72a90>"
      ]
     },
     "metadata": {},
     "output_type": "display_data"
    }
   ],
   "source": [
    "frontend_users_df['magazin'].hist()\n",
    "print('Magazin Histogram')"
   ]
  },
  {
   "cell_type": "code",
   "execution_count": 16,
   "metadata": {},
   "outputs": [
    {
     "name": "stdout",
     "output_type": "stream",
     "text": [
      "64925 users use newsletter\n"
     ]
    },
    {
     "data": {
      "image/png": "[encoded data removed]",
      "text/plain": [
       "<matplotlib.figure.Figure at 0x7f5ea2bb9cc0>"
      ]
     },
     "metadata": {},
     "output_type": "display_data"
    }
   ],
   "source": [
    "frontend_users_df['newsletter'].hist()\n",
    "use_newsletter = frontend_users_df['newsletter'].sum()\n",
    "print('{} users use newsletter'.format(use_newsletter))"
   ]
  },
  {
   "cell_type": "code",
   "execution_count": 17,
   "metadata": {},
   "outputs": [
    {
     "name": "stdout",
     "output_type": "stream",
     "text": [
      "Bonus points histogram\n"
     ]
    },
    {
     "data": {
      "image/png": "[encoded data removed]",
      "text/plain": [
       "<matplotlib.figure.Figure at 0x7f5ea32e0630>"
      ]
     },
     "metadata": {},
     "output_type": "display_data"
    }
   ],
   "source": [
    "frontend_users_df['bonuspoints'].hist()\n",
    "print('Bonus points histogram')"
   ]
  },
  {
   "cell_type": "markdown",
   "metadata": {},
   "source": [
    "We see that all users come from Germany"
   ]
  },
  {
   "cell_type": "code",
   "execution_count": 18,
   "metadata": {},
   "outputs": [
    {
     "name": "stdout",
     "output_type": "stream",
     "text": [
      "['DE']\n"
     ]
    }
   ],
   "source": [
    "country_count = frontend_users_df['country'].unique()\n",
    "cities = frontend_users_df['city'].unique()\n",
    "print(country_count)"
   ]
  },
  {
   "cell_type": "code",
   "execution_count": 19,
   "metadata": {},
   "outputs": [
    {
     "name": "stdout",
     "output_type": "stream",
     "text": [
      "Users comes from 79 different cities\n"
     ]
    }
   ],
   "source": [
    "print('Users comes from {} different cities'.format(cities.size))"
   ]
  },
  {
   "cell_type": "markdown",
   "metadata": {},
   "source": [
    "List of all cities"
   ]
  },
  {
   "cell_type": "code",
   "execution_count": 20,
   "metadata": {},
   "outputs": [
    {
     "data": {
      "text/plain": [
       "array(['Hanover', 'Dresden', 'Bielefeld', 'Neuss', 'Herne', 'Wiesbaden',\n",
       "       'Mülheim an der Ruhr', 'Göttingen', 'Erfurt', 'Bottrop',\n",
       "       'Wolfsburg', 'Gelsenkirchen', 'Potsdam', 'Remscheid', 'Moers',\n",
       "       'Hildesheim', 'Hamburg', 'Duisburg', 'Reutlingen', 'Augsburg',\n",
       "       'Offenbach', 'Oldenburg', 'Salzgitter', 'Mönchengladbach',\n",
       "       'Paderborn', 'Oberhausen', 'Bochum', 'Heidelberg', 'Bonn',\n",
       "       'Koblenz', 'Darmstadt', 'Kiel', 'Heilbronn', 'Recklinghausen',\n",
       "       'Bergisch Gladbach', 'Magdeburg', 'Munich', 'Bremen', 'Leipzig',\n",
       "       'Nuremberg', 'Essen', 'Cologne', 'Jena', 'Krefeld', 'Halle',\n",
       "       'Fürth', 'Münster', 'Braunschweig', 'Osnabrück', 'Dortmund',\n",
       "       'Pforzheim', 'Chemnitz', 'Solingen', 'Trier',\n",
       "       'Ludwigshafen am Rhein', 'Hamm', 'Stuttgart', 'Rostock',\n",
       "       'Leverkusen', 'Mannheim', 'Lübeck', 'Freiburg im Breisgau', 'Ulm',\n",
       "       'Bremerhaven', 'Karlsruh', 'Hagen', 'Aachen', 'Erlangen',\n",
       "       'Saarbrücken', 'Siegen', 'Kassel', 'Berlin', 'Düsseldorf',\n",
       "       'Frankfurt', 'Wuppertal', 'Würzburg', 'Ingolstadt', 'Mainz',\n",
       "       'Regensburg'], dtype=object)"
      ]
     },
     "execution_count": 20,
     "metadata": {},
     "output_type": "execute_result"
    }
   ],
   "source": [
    "cities"
   ]
  },
  {
   "cell_type": "code",
   "execution_count": 23,
   "metadata": {},
   "outputs": [
    {
     "data": {
      "text/plain": [
       "<matplotlib.collections.PathCollection at 0x7f72ba8e4630>"
      ]
     },
     "execution_count": 23,
     "metadata": {},
     "output_type": "execute_result"
    },
    {
     "data": {
      "image/png": "[encoded data removed]",
      "text/plain": [
       "<matplotlib.figure.Figure at 0x7f72baa093c8>"
      ]
     },
     "metadata": {},
     "output_type": "display_data"
    }
   ],
   "source": [
    "plt.scatter(frontend_users_df['age'].values, frontend_users_df['bonuspoints'].values)"
   ]
  },
  {
   "cell_type": "code",
   "execution_count": 42,
   "metadata": {},
   "outputs": [],
   "source": [
    "title_bonus_points = frontend_users_df.iloc[:, [1,8]].values\n",
    "age = frontend_users_df.iloc[:, 3].values\n",
    "from sklearn.model_selection import train_test_split\n",
    "X_train, X_test, y_train, y_test = train_test_split(title_bonus_points,age,test_size=0.3,random_state=42)"
   ]
  },
  {
   "cell_type": "code",
   "execution_count": 43,
   "metadata": {},
   "outputs": [
    {
     "data": {
      "text/plain": [
       "Index(['id', 'title', 'email', 'age', 'city', 'country', 'magazin',\n",
       "       'newsletter', 'bonuspoints', 'created', 'invited_by_frontend_user_id'],\n",
       "      dtype='object')"
      ]
     },
     "execution_count": 43,
     "metadata": {},
     "output_type": "execute_result"
    }
   ],
   "source": [
    "frontend_users_df.columns"
   ]
  },
  {
   "cell_type": "code",
   "execution_count": 44,
   "metadata": {},
   "outputs": [],
   "source": [
    "models = []\n",
    "models.append(('Linear Regression', LinearRegression()))\n",
    "models.append(('Ridge Regression', Ridge()))\n",
    "models.append(('Lasso Regression', Lasso()))\n",
    "models.append(('ElasticNet', ElasticNet()))\n",
    "models.append(('Decision Tree Regressor', DecisionTreeRegressor()))\n",
    "models.append(('Extra Tree Regressor', ExtraTreesRegressor()))\n",
    "models.append(('RandomForestRegressor', RandomForestRegressor()))"
   ]
  },
  {
   "cell_type": "code",
   "execution_count": 45,
   "metadata": {},
   "outputs": [
    {
     "name": "stdout",
     "output_type": "stream",
     "text": [
      "Linear Regression: (0.027263094609313976) (10.118286716020888)\n",
      "Ridge Regression: (0.027262730219054343) (10.118291678046885)\n",
      "Lasso Regression: (0.009574379545137401) (10.211176606244578)\n",
      "ElasticNet: (0.009574903302686621) (10.21116272030004)\n",
      "Decision Tree Regressor: (0.025869763888136776) (10.085224210530836)\n",
      "Extra Tree Regressor: (0.026648886875901723) (10.083451479843687)\n",
      "RandomForestRegressor: (0.03019091625449033) (10.069930807719793)\n"
     ]
    }
   ],
   "source": [
    "for name, model in models:\n",
    "    # Fit the model\n",
    "    model.fit(X_train, y_train)\n",
    "    \n",
    "    predictions = model.predict(X_test)\n",
    "    \n",
    "    # Evaluate the model\n",
    "    score = explained_variance_score(y_test, predictions)\n",
    "    mae = mean_absolute_error(predictions, y_test)\n",
    "    \n",
    "    msg = \"{}: ({}) ({})\".format(name, score, mae)\n",
    "    print(msg)"
   ]
  },
  {
   "cell_type": "markdown",
   "metadata": {},
   "source": [
    "Tried to predict age from title and bonus points which is impossible. Best predictor is Random Forest, but not good enough. Looking and graphs of variables, it also imposible to cluster dat"
   ]
  },
  {
   "cell_type": "code",
   "execution_count": null,
   "metadata": {},
   "outputs": [],
   "source": []
  }
 ],
 "metadata": {
  "kernelspec": {
   "display_name": "Python 3",
   "language": "python",
   "name": "python3"
  },
  "language_info": {
   "codemirror_mode": {
    "name": "ipython",
    "version": 3
   },
   "file_extension": ".py",
   "mimetype": "text/x-python",
   "name": "python",
   "nbconvert_exporter": "python",
   "pygments_lexer": "ipython3",
   "version": "3.6.4"
  }
 },
 "nbformat": 4,
 "nbformat_minor": 2
}
